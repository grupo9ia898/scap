{
 "cells": [
  {
   "cell_type": "markdown",
   "metadata": {},
   "source": [
    "# Implementação de um contador automático de passageiros de ônibus\n",
    "**Autores: Ronaldo Nunez e Vitor Lima**\n",
    "\n",
    "**Disciplina IA898-A: Processamento digital de Imagens**"
   ]
  },
  {
   "cell_type": "markdown",
   "metadata": {},
   "source": [
    "### Importando as dependências"
   ]
  },
  {
   "cell_type": "code",
   "execution_count": 1,
   "metadata": {},
   "outputs": [],
   "source": [
    "import numpy as np\n",
    "import matplotlib.pyplot as plt\n",
    "import pims\n",
    "from PIL import Image\n",
    "from skimage import filters\n",
    "import pandas as pd"
   ]
  },
  {
   "cell_type": "markdown",
   "metadata": {},
   "source": [
    "#### Funções auxiliares"
   ]
  },
  {
   "cell_type": "code",
   "execution_count": 2,
   "metadata": {},
   "outputs": [],
   "source": [
    " def histogram(img, bins, range):\n",
    "    h, be = np.histogram(img, bins=bins, range=range)\n",
    "    w = range[-1]/bins\n",
    "    bin_centers = be[1:]-(w/2)\n",
    "    \n",
    "    return bin_centers, h, w"
   ]
  },
  {
   "cell_type": "code",
   "execution_count": 3,
   "metadata": {},
   "outputs": [],
   "source": [
    "def frame_analysis(frame_orig, frame_proc):\n",
    "    tfig = plt.figure()\n",
    "\n",
    "    tfig0 = plt.subplot2grid((4, 4), (0, 0), rowspan=2, colspan=2)\n",
    "    tfig1 = plt.subplot2grid((4, 4), (0, 2), rowspan=2, colspan=2)\n",
    "    tfig2 = plt.subplot2grid((4, 4), (2, 0), rowspan=2, colspan=4)\n",
    "    \n",
    "    tfig0.set_title('Frame original')\n",
    "    tfig0.axis('off')\n",
    "    tfig0.imshow(frame_orig, cmap='gray')\n",
    "\n",
    "    tfig1.set_title('Frame subtraido')\n",
    "    tfig1.axis('off')\n",
    "    tfig1.imshow(frame_proc, cmap='gray')\n",
    "\n",
    "    (bc, h , w) = histogram(frame_proc, 120, (0, 1.0))\n",
    "    \n",
    "    tfig2.bar(bc, h, width=w)"
   ]
  },
  {
   "cell_type": "code",
   "execution_count": 4,
   "metadata": {},
   "outputs": [],
   "source": [
    "# Fonte: https://code.i-harness.com/en/q/c53fb2\n",
    "def unique(array):\n",
    "    uniq, index = np.unique(array, axis=0, return_index=True)\n",
    "    return uniq[index.argsort()]"
   ]
  },
  {
   "cell_type": "code",
   "execution_count": 5,
   "metadata": {},
   "outputs": [],
   "source": [
    "def to_gray(video):\n",
    "    frames, width, hight, color = video.shape\n",
    "    video_gray = np.zeros((frames, width, hight), dtype='uint32')\n",
    "    \n",
    "    for ii in range(len(video)):\n",
    "        r, g, b = Image.fromarray(video[ii]).split()\n",
    "        \n",
    "        r = np.array(r, dtype='uint32')\n",
    "        g = np.array(g, dtype='uint32')\n",
    "        b = np.array(b, dtype='uint32')\n",
    "        \n",
    "        video_gray[ii] = (r + g + b) / 3\n",
    "        \n",
    "    return video_gray"
   ]
  },
  {
   "cell_type": "markdown",
   "metadata": {},
   "source": [
    "### Abrindo os vídeos"
   ]
  },
  {
   "cell_type": "markdown",
   "metadata": {},
   "source": [
    "Dataset disponível em: https://github.com/shijieS/people-counting-dataset"
   ]
  },
  {
   "cell_type": "code",
   "execution_count": 50,
   "metadata": {},
   "outputs": [],
   "source": [
    "v_depth = []\n",
    "v_depth.append(pims.Video('../dataset/25_20160407_front/normal/crowd/2016_04_07_08_48_35FrontDepth.avi'))\n",
    "v_depth.append(pims.Video('../dataset/25_20160407_front/normal/crowd/2016_04_07_07_15_44FrontDepth.avi'))\n",
    "v_depth.append(pims.Video('../dataset/25_20160407_front/normal/crowd/2016_04_07_19_09_56FrontDepth.avi'))\n",
    "v_depth.append(pims.Video('../dataset/25_20160407_front/normal/crowd/2016_04_07_18_58_34FrontDepth.avi'))\n",
    "v_depth.append(pims.Video('../dataset/25_20160407_front/normal/crowd/2016_04_07_14_37_58FrontDepth.avi'))\n",
    "\n",
    "v_color = []\n",
    "v_color.append(pims.Video('../dataset/25_20160407_front/normal/crowd/2016_04_07_08_48_35FrontColor.avi'))\n",
    "v_color.append(pims.Video('../dataset/25_20160407_front/normal/crowd/2016_04_07_07_15_44FrontColor.avi'))\n",
    "v_color.append(pims.Video('../dataset/25_20160407_front/normal/crowd/2016_04_07_19_09_56FrontColor.avi'))\n",
    "v_color.append(pims.Video('../dataset/25_20160407_front/normal/crowd/2016_04_07_18_58_34FrontColor.avi'))\n",
    "v_color.append(pims.Video('../dataset/25_20160407_front/normal/crowd/2016_04_07_14_37_58FrontColor.avi'))"
   ]
  },
  {
   "cell_type": "markdown",
   "metadata": {},
   "source": [
    "## Método subtração de frames"
   ]
  },
  {
   "cell_type": "markdown",
   "metadata": {},
   "source": [
    "![title](subt_frames.png)"
   ]
  },
  {
   "cell_type": "markdown",
   "metadata": {},
   "source": [
    "Baseado no proposto em: \n",
    "\n",
    "Del Pizzo, Luca & Foggia, Pasquale & Greco, Antonio & Percannella, Gennaro & Vento, Mario. *A versatile and effective method for counting people on either RGB or depth image.* Itália, 2015"
   ]
  },
  {
   "cell_type": "markdown",
   "metadata": {},
   "source": [
    "### Pré-processamento"
   ]
  },
  {
   "cell_type": "markdown",
   "metadata": {},
   "source": [
    "O pré-processamento consiste exclusivamente em deixar o vídeo em escala de cinza."
   ]
  },
  {
   "cell_type": "code",
   "execution_count": 7,
   "metadata": {},
   "outputs": [],
   "source": [
    "X = []\n",
    "for vd in v_depth:\n",
    "    X.append(to_gray(np.array(vd)))\n",
    "\n",
    "Y = []\n",
    "for vc in v_color:\n",
    "    Y.append(to_gray(np.array(vc)))"
   ]
  },
  {
   "cell_type": "code",
   "execution_count": 8,
   "metadata": {},
   "outputs": [],
   "source": [
    "valor_real = [7, 7, 10, 13, 20]\n",
    "valor_real_df = pd.DataFrame(valor_real, columns=['valor_real'])"
   ]
  },
  {
   "cell_type": "code",
   "execution_count": 9,
   "metadata": {},
   "outputs": [],
   "source": [
    "I = X[0]"
   ]
  },
  {
   "cell_type": "markdown",
   "metadata": {},
   "source": [
    "### Determinando o modelo de fundo"
   ]
  },
  {
   "cell_type": "markdown",
   "metadata": {},
   "source": [
    "Baseado no métodos apresentados em:\n",
    "\n",
    "Hassanpour, H. *Video Frame’s Background Modeling: Reviewing the Techniques. Journal of Signal and Information Processing*. Irã, 2011. "
   ]
  },
  {
   "cell_type": "markdown",
   "metadata": {},
   "source": [
    "#### Background Modeling Independent of Time"
   ]
  },
  {
   "cell_type": "code",
   "execution_count": 10,
   "metadata": {},
   "outputs": [],
   "source": [
    "def fgmask_BMIT(video, tao):\n",
    "    B_BMIT = video[0] # background model\n",
    "    D_BMIT = np.abs(video - B_BMIT) # background subtraction\n",
    "\n",
    "    # foreground mask\n",
    "    F_BMIT = D_BMIT\n",
    "    F_BMIT = F_BMIT / F_BMIT.max()\n",
    "    F_BMIT[F_BMIT >= tao] = 1.0\n",
    "    F_BMIT[F_BMIT < tao] = 0\n",
    "    \n",
    "    return F_BMIT"
   ]
  },
  {
   "cell_type": "code",
   "execution_count": 11,
   "metadata": {},
   "outputs": [
    {
     "data": {
      "image/png": "[encoded data removed]",
      "text/plain": [
       "<Figure size 432x288 with 3 Axes>"
      ]
     },
     "metadata": {},
     "output_type": "display_data"
    }
   ],
   "source": [
    "tao_BMIT = 0.98  # Threshold\n",
    "F_BMIT = fgmask_BMIT(I, tao_BMIT)\n",
    "frame_analysis(I[47], F_BMIT[47])"
   ]
  },
  {
   "cell_type": "code",
   "execution_count": 12,
   "metadata": {},
   "outputs": [],
   "source": [
    "def fgmask_BMIT_otsu(video):\n",
    "    B_BMIT = video[0] # background model\n",
    "    D_BMIT = np.abs(video - B_BMIT) # background subtraction\n",
    "\n",
    "    # foreground mask\n",
    "\n",
    "    F_BMIT = D_BMIT\n",
    "    F_BMIT = F_BMIT / F_BMIT.max()\n",
    "    tao = filters.threshold_otsu(F_BMIT)\n",
    "    F_BMIT[F_BMIT >= tao] = 1.0\n",
    "    F_BMIT[F_BMIT < tao] = 0\n",
    "    \n",
    "    return F_BMIT"
   ]
  },
  {
   "cell_type": "code",
   "execution_count": 13,
   "metadata": {},
   "outputs": [
    {
     "data": {
      "image/png": "[encoded data removed]",
      "text/plain": [
       "<Figure size 432x288 with 3 Axes>"
      ]
     },
     "metadata": {},
     "output_type": "display_data"
    }
   ],
   "source": [
    "F_BMIT = fgmask_BMIT_otsu(I)\n",
    "frame_analysis(I[47], F_BMIT[47])"
   ]
  },
  {
   "cell_type": "markdown",
   "metadata": {},
   "source": [
    "####  The Long Term Average Background Modeling"
   ]
  },
  {
   "cell_type": "code",
   "execution_count": 14,
   "metadata": {},
   "outputs": [],
   "source": [
    "def fgmask_LTABM(video, tao):\n",
    "    # backgound model\n",
    "    B_LTAMBM = np.zeros(video.shape)\n",
    "    for k in range(1, len(video)):\n",
    "        B_LTAMBM[k] = (1-1/k)*B_LTAMBM[k-1] + (1/k) *video[k]\n",
    "\n",
    "    D_LTAMBM = np.abs(video - B_LTAMBM) # background subtraction\n",
    "\n",
    "    # foreground mask\n",
    "    F_LTAMBM = D_LTAMBM \n",
    "    F_LTAMBM = F_LTAMBM / F_LTAMBM.max()\n",
    "    F_LTAMBM[F_LTAMBM >= tao_LTAMBM] = 1.0\n",
    "    F_LTAMBM[F_LTAMBM < tao_LTAMBM] = 0\n",
    "    \n",
    "    return F_LTAMBM"
   ]
  },
  {
   "cell_type": "code",
   "execution_count": 15,
   "metadata": {},
   "outputs": [
    {
     "data": {
      "image/png": "[encoded data removed]",
      "text/plain": [
       "<Figure size 432x288 with 3 Axes>"
      ]
     },
     "metadata": {},
     "output_type": "display_data"
    }
   ],
   "source": [
    "tao_LTAMBM = 0.2\n",
    "F_LTAMBM = fgmask_LTABM(I, tao_LTAMBM)\n",
    "frame_analysis(I[47], F_LTAMBM[47])"
   ]
  },
  {
   "cell_type": "code",
   "execution_count": 16,
   "metadata": {},
   "outputs": [],
   "source": [
    "def fgmask_LTABM_otsu(video):\n",
    "    # backgound model\n",
    "    B_LTAMBM = np.zeros(video.shape)\n",
    "    for k in range(1, len(video)):\n",
    "        B_LTAMBM[k] = (1-1/k)*B_LTAMBM[k-1] + (1/k) *video[k]\n",
    "\n",
    "    D_LTAMBM = np.abs(video - B_LTAMBM) # background subtraction\n",
    "    # foreground mask\n",
    "    F_LTAMBM = D_LTAMBM\n",
    "    F_LTAMBM = F_LTAMBM / F_LTAMBM.max()\n",
    "    tao = filters.threshold_otsu(F_LTAMBM)\n",
    "    F_LTAMBM[F_LTAMBM >= tao] = 1.0\n",
    "    F_LTAMBM[F_LTAMBM < tao] = 0\n",
    "    \n",
    "    return F_LTAMBM"
   ]
  },
  {
   "cell_type": "code",
   "execution_count": 17,
   "metadata": {},
   "outputs": [
    {
     "data": {
      "image/png": "[encoded data removed]",
      "text/plain": [
       "<Figure size 432x288 with 3 Axes>"
      ]
     },
     "metadata": {},
     "output_type": "display_data"
    }
   ],
   "source": [
    "F_LTAMBM = fgmask_LTABM_otsu(I)\n",
    "frame_analysis(I[47], F_LTAMBM[47])"
   ]
  },
  {
   "cell_type": "markdown",
   "metadata": {},
   "source": [
    "#### Moving Average Backgound Modeling"
   ]
  },
  {
   "cell_type": "code",
   "execution_count": 18,
   "metadata": {},
   "outputs": [],
   "source": [
    "def fgmodel_MABM(video, tao, past=10):\n",
    "    # background modeling\n",
    "    B_MABM = np.zeros(video.shape)\n",
    "    for k in range((past-1), len(video)-1):\n",
    "        B_MABM[k] = (1/past)*np.sum(video[(k-(past-1)):(k+1),:,:], axis=0)\n",
    "\n",
    "    D_MABM = np.abs(video - B_MABM) # background subtraction\n",
    "\n",
    "    # foreground mask\n",
    "    F_MABM = D_MABM \n",
    "    F_MABM = F_MABM / F_MABM.max()\n",
    "    F_MABM[F_MABM >= tao] = 1.0\n",
    "    F_MABM[F_MABM < tao] = 0\n",
    "    \n",
    "    return F_MABM"
   ]
  },
  {
   "cell_type": "code",
   "execution_count": 19,
   "metadata": {},
   "outputs": [
    {
     "data": {
      "image/png": "[encoded data removed]",
      "text/plain": [
       "<Figure size 432x288 with 3 Axes>"
      ]
     },
     "metadata": {},
     "output_type": "display_data"
    }
   ],
   "source": [
    "tao_MABM = 0.2\n",
    "F_MABM = fgmodel_MABM(I, tao_MABM, 5)\n",
    "frame_analysis(I[47], F_MABM[47])"
   ]
  },
  {
   "cell_type": "code",
   "execution_count": 20,
   "metadata": {},
   "outputs": [],
   "source": [
    "def fgmodel_MABM_otsu(video, past=10):\n",
    "    # background modeling\n",
    "    B_MABM = np.zeros(video.shape)\n",
    "    for k in range((past-1), len(video)-1):\n",
    "        B_MABM[k] = (1/past)*np.sum(video[(k-(past-1)):(k+1),:,:], axis=0)\n",
    "\n",
    "    D_MABM = np.abs(video - B_MABM) # background subtraction\n",
    "\n",
    "    # foreground mask\n",
    "    F_MABM = D_MABM\n",
    "    F_MABM = F_MABM / F_MABM.max()\n",
    "    tao = filters.threshold_otsu(F_MABM)\n",
    "    F_MABM[F_MABM >= tao] = 1.0\n",
    "    F_MABM[F_MABM < tao] = 0\n",
    "    \n",
    "    return F_MABM"
   ]
  },
  {
   "cell_type": "code",
   "execution_count": 21,
   "metadata": {},
   "outputs": [
    {
     "data": {
      "image/png": "[encoded data removed]",
      "text/plain": [
       "<Figure size 432x288 with 3 Axes>"
      ]
     },
     "metadata": {},
     "output_type": "display_data"
    }
   ],
   "source": [
    "F_MABM = fgmodel_MABM_otsu(I, 20)\n",
    "frame_analysis(I[47], F_MABM[47])"
   ]
  },
  {
   "cell_type": "markdown",
   "metadata": {},
   "source": [
    "### Detecção"
   ]
  },
  {
   "cell_type": "markdown",
   "metadata": {},
   "source": [
    "![title](deteccao.png)"
   ]
  },
  {
   "cell_type": "code",
   "execution_count": 22,
   "metadata": {},
   "outputs": [],
   "source": [
    "def active_strips(foregd_frame, Theta, H, W, K):\n",
    "    delta = W / K\n",
    "\n",
    "    C_area = delta * H/2\n",
    "    A = np.array([], dtype='uint32')\n",
    "\n",
    "    for C_i in np.hsplit(foregd_frame, K):\n",
    "        for C_j in np.vsplit(C_i, 2):\n",
    "            aux = 1 if ((C_j == 1).sum() >= C_area*Theta) else 0\n",
    "            A = np.append(A, aux)\n",
    "\n",
    "    A = np.vstack((A[0::2], A[1::2]))\n",
    "    \n",
    "    return A"
   ]
  },
  {
   "cell_type": "code",
   "execution_count": 23,
   "metadata": {},
   "outputs": [],
   "source": [
    "def active_strips_changes(fgmodel_video, Theta, H, W, K):\n",
    "    A_vid = np.zeros((fgmodel_video.shape[0], 2, K))\n",
    "\n",
    "    i = 0\n",
    "    for frame in fgmodel_video:\n",
    "        A_vid[i] = active_strips(frame, Theta, H, W, K)\n",
    "        i += 1\n",
    "\n",
    "    return unique(A_vid)"
   ]
  },
  {
   "cell_type": "code",
   "execution_count": 24,
   "metadata": {
    "scrolled": true
   },
   "outputs": [],
   "source": [
    "A_teste = active_strips_changes(F_LTAMBM, 0.2, I.shape[1], I.shape[2], 10)"
   ]
  },
  {
   "cell_type": "markdown",
   "metadata": {},
   "source": [
    "### Contagem automática"
   ]
  },
  {
   "cell_type": "code",
   "execution_count": 25,
   "metadata": {},
   "outputs": [],
   "source": [
    "def people_counter(asc_video):\n",
    "    people_brd = 0\n",
    "    people_unbrd = 0\n",
    "\n",
    "    for f in range(1, asc_video.shape[0]):\n",
    "        for i in range(asc_video.shape[2]):\n",
    "            if ((asc_video[f-1, 0, i] == 1) and \n",
    "                (asc_video[f-1, 1, i] == 0) and\n",
    "                (asc_video[f, 1, i] == 1) ):\n",
    "                people_brd += 1\n",
    "            \n",
    "            if ((asc_video[f-1, 0, i] == 0) and \n",
    "                (asc_video[f-1, 1, i] == 1) and\n",
    "                (asc_video[f, 0, i] == 1) ):\n",
    "                people_unbrd += 1\n",
    "\n",
    "\n",
    "    return {'boarding': people_brd, 'unboarding': people_unbrd}"
   ]
  },
  {
   "cell_type": "code",
   "execution_count": 26,
   "metadata": {},
   "outputs": [
    {
     "data": {
      "text/plain": [
       "{'boarding': 34, 'unboarding': 9}"
      ]
     },
     "execution_count": 26,
     "metadata": {},
     "output_type": "execute_result"
    }
   ],
   "source": [
    "people_counter(A_teste)"
   ]
  },
  {
   "cell_type": "markdown",
   "metadata": {},
   "source": [
    "### Implementando a técnica em uma única função"
   ]
  },
  {
   "cell_type": "code",
   "execution_count": 27,
   "metadata": {},
   "outputs": [],
   "source": [
    "def apcs(I, seg_threshold, det_threshold, K=10, past=5, seg_tech='MABM', dirc='boarding'):\n",
    "       \n",
    "    if (seg_tech == 'BMIT'):\n",
    "        F_BMIT = fgmask_BMIT(I, seg_threshold)\n",
    "        A_test = active_strips_changes(F_BMIT, det_threshold, I.shape[1], I.shape[2], K)\n",
    "    elif(seg_tech == 'LTAMBM'):\n",
    "        F_LTAMBM = fgmask_LTABM(I, seg_threshold)\n",
    "        A_test = active_strips_changes(F_LTAMBM, det_threshold, I.shape[1], I.shape[2], K)\n",
    "    elif(seg_tech == 'MABM'):\n",
    "        F_MABM = fgmodel_MABM(I, seg_threshold, past=past)\n",
    "        A_test = active_strips_changes(F_MABM, det_threshold, I.shape[1], I.shape[2], K)\n",
    "    else:\n",
    "        pass\n",
    "    \n",
    "    return people_counter(A_test)[dirc]"
   ]
  },
  {
   "cell_type": "code",
   "execution_count": 28,
   "metadata": {},
   "outputs": [
    {
     "name": "stdout",
     "output_type": "stream",
     "text": [
      "O numero de pessoas subindo:  3\n",
      "CPU times: user 1.21 s, sys: 409 ms, total: 1.62 s\n",
      "Wall time: 1.36 s\n"
     ]
    }
   ],
   "source": [
    "%%time\n",
    "print('O numero de pessoas subindo: ', apcs(X[0], 0.12, 0.27, dirc='boarding'))"
   ]
  },
  {
   "cell_type": "code",
   "execution_count": 29,
   "metadata": {},
   "outputs": [],
   "source": [
    "def apcs_otsu(I, det_threshold, K=10, past=5, seg_tech='MABM', dirc='boarding'):\n",
    "       \n",
    "    if (seg_tech == 'BMIT'):\n",
    "        F_BMIT = fgmask_BMIT_otsu(I)\n",
    "        A_test = active_strips_changes(F_BMIT, det_threshold, I.shape[1], I.shape[2], K)\n",
    "    elif(seg_tech == 'LTAMBM'):\n",
    "        F_LTAMBM = fgmask_LTABM_otsu(I)\n",
    "        A_test = active_strips_changes(F_LTAMBM, det_threshold, I.shape[1], I.shape[2], K)\n",
    "    elif(seg_tech == 'MABM'):\n",
    "        F_MABM = fgmodel_MABM_otsu(I, past=past)\n",
    "        A_test = active_strips_changes(F_MABM, det_threshold, I.shape[1], I.shape[2], K)\n",
    "    else:\n",
    "        pass\n",
    "    \n",
    "    return people_counter(A_test)[dirc]"
   ]
  },
  {
   "cell_type": "code",
   "execution_count": 30,
   "metadata": {},
   "outputs": [
    {
     "name": "stdout",
     "output_type": "stream",
     "text": [
      "O numero de pessoas subindo:  3\n",
      "CPU times: user 2.75 s, sys: 286 ms, total: 3.04 s\n",
      "Wall time: 2.78 s\n"
     ]
    }
   ],
   "source": [
    "%%time\n",
    "print('O numero de pessoas subindo: ', apcs_otsu(X[0], 0.4, K=40, dirc='boarding'))"
   ]
  },
  {
   "cell_type": "markdown",
   "metadata": {},
   "source": [
    "#### Estudo dos thresholds"
   ]
  },
  {
   "cell_type": "code",
   "execution_count": 31,
   "metadata": {},
   "outputs": [
    {
     "data": {
      "text/html": [
       "<div>\n",
       "<style scoped>\n",
       "    .dataframe tbody tr th:only-of-type {\n",
       "        vertical-align: middle;\n",
       "    }\n",
       "\n",
       "    .dataframe tbody tr th {\n",
       "        vertical-align: top;\n",
       "    }\n",
       "\n",
       "    .dataframe thead th {\n",
       "        text-align: right;\n",
       "    }\n",
       "</style>\n",
       "<table border=\"1\" class=\"dataframe\">\n",
       "  <thead>\n",
       "    <tr style=\"text-align: right;\">\n",
       "      <th></th>\n",
       "      <th>0.05</th>\n",
       "      <th>0.15</th>\n",
       "      <th>0.25</th>\n",
       "      <th>0.35</th>\n",
       "      <th>0.45</th>\n",
       "      <th>0.55</th>\n",
       "      <th>0.65</th>\n",
       "      <th>0.75</th>\n",
       "      <th>0.85</th>\n",
       "      <th>0.95</th>\n",
       "    </tr>\n",
       "  </thead>\n",
       "  <tbody>\n",
       "    <tr>\n",
       "      <th>0.05</th>\n",
       "      <td>89</td>\n",
       "      <td>67</td>\n",
       "      <td>34</td>\n",
       "      <td>4</td>\n",
       "      <td>5</td>\n",
       "      <td>1</td>\n",
       "      <td>1</td>\n",
       "      <td>1</td>\n",
       "      <td>0</td>\n",
       "      <td>0</td>\n",
       "    </tr>\n",
       "    <tr>\n",
       "      <th>0.15</th>\n",
       "      <td>46</td>\n",
       "      <td>2</td>\n",
       "      <td>2</td>\n",
       "      <td>1</td>\n",
       "      <td>1</td>\n",
       "      <td>0</td>\n",
       "      <td>0</td>\n",
       "      <td>0</td>\n",
       "      <td>0</td>\n",
       "      <td>0</td>\n",
       "    </tr>\n",
       "    <tr>\n",
       "      <th>0.25</th>\n",
       "      <td>6</td>\n",
       "      <td>1</td>\n",
       "      <td>0</td>\n",
       "      <td>0</td>\n",
       "      <td>0</td>\n",
       "      <td>0</td>\n",
       "      <td>0</td>\n",
       "      <td>0</td>\n",
       "      <td>0</td>\n",
       "      <td>0</td>\n",
       "    </tr>\n",
       "    <tr>\n",
       "      <th>0.35</th>\n",
       "      <td>0</td>\n",
       "      <td>0</td>\n",
       "      <td>0</td>\n",
       "      <td>0</td>\n",
       "      <td>0</td>\n",
       "      <td>0</td>\n",
       "      <td>0</td>\n",
       "      <td>0</td>\n",
       "      <td>0</td>\n",
       "      <td>0</td>\n",
       "    </tr>\n",
       "    <tr>\n",
       "      <th>0.45</th>\n",
       "      <td>0</td>\n",
       "      <td>0</td>\n",
       "      <td>0</td>\n",
       "      <td>0</td>\n",
       "      <td>0</td>\n",
       "      <td>0</td>\n",
       "      <td>0</td>\n",
       "      <td>0</td>\n",
       "      <td>0</td>\n",
       "      <td>0</td>\n",
       "    </tr>\n",
       "    <tr>\n",
       "      <th>0.55</th>\n",
       "      <td>0</td>\n",
       "      <td>0</td>\n",
       "      <td>0</td>\n",
       "      <td>0</td>\n",
       "      <td>0</td>\n",
       "      <td>0</td>\n",
       "      <td>0</td>\n",
       "      <td>0</td>\n",
       "      <td>0</td>\n",
       "      <td>0</td>\n",
       "    </tr>\n",
       "    <tr>\n",
       "      <th>0.65</th>\n",
       "      <td>0</td>\n",
       "      <td>0</td>\n",
       "      <td>0</td>\n",
       "      <td>0</td>\n",
       "      <td>0</td>\n",
       "      <td>0</td>\n",
       "      <td>0</td>\n",
       "      <td>0</td>\n",
       "      <td>0</td>\n",
       "      <td>0</td>\n",
       "    </tr>\n",
       "    <tr>\n",
       "      <th>0.75</th>\n",
       "      <td>0</td>\n",
       "      <td>0</td>\n",
       "      <td>0</td>\n",
       "      <td>0</td>\n",
       "      <td>0</td>\n",
       "      <td>0</td>\n",
       "      <td>0</td>\n",
       "      <td>0</td>\n",
       "      <td>0</td>\n",
       "      <td>0</td>\n",
       "    </tr>\n",
       "    <tr>\n",
       "      <th>0.85</th>\n",
       "      <td>0</td>\n",
       "      <td>0</td>\n",
       "      <td>0</td>\n",
       "      <td>0</td>\n",
       "      <td>0</td>\n",
       "      <td>0</td>\n",
       "      <td>0</td>\n",
       "      <td>0</td>\n",
       "      <td>0</td>\n",
       "      <td>0</td>\n",
       "    </tr>\n",
       "    <tr>\n",
       "      <th>0.95</th>\n",
       "      <td>0</td>\n",
       "      <td>0</td>\n",
       "      <td>0</td>\n",
       "      <td>0</td>\n",
       "      <td>0</td>\n",
       "      <td>0</td>\n",
       "      <td>0</td>\n",
       "      <td>0</td>\n",
       "      <td>0</td>\n",
       "      <td>0</td>\n",
       "    </tr>\n",
       "  </tbody>\n",
       "</table>\n",
       "</div>"
      ],
      "text/plain": [
       "      0.05  0.15  0.25  0.35  0.45  0.55  0.65  0.75  0.85  0.95\n",
       "0.05    89    67    34     4     5     1     1     1     0     0\n",
       "0.15    46     2     2     1     1     0     0     0     0     0\n",
       "0.25     6     1     0     0     0     0     0     0     0     0\n",
       "0.35     0     0     0     0     0     0     0     0     0     0\n",
       "0.45     0     0     0     0     0     0     0     0     0     0\n",
       "0.55     0     0     0     0     0     0     0     0     0     0\n",
       "0.65     0     0     0     0     0     0     0     0     0     0\n",
       "0.75     0     0     0     0     0     0     0     0     0     0\n",
       "0.85     0     0     0     0     0     0     0     0     0     0\n",
       "0.95     0     0     0     0     0     0     0     0     0     0"
      ]
     },
     "execution_count": 31,
     "metadata": {},
     "output_type": "execute_result"
    }
   ],
   "source": [
    "seg_ths = det_ths = np.around(np.linspace(0.05, 0.95, 10), decimals=3)\n",
    "\n",
    "results_ = []\n",
    "row = 0\n",
    "for i in seg_ths:\n",
    "    results_.append([])\n",
    "    for j in det_ths:\n",
    "        results_[row].append(apcs(X[0], i, j, seg_tech='MABM', dirc='boarding'))\n",
    "    row+=1\n",
    "\n",
    "pd.DataFrame(results_, index=seg_ths, columns=det_ths)"
   ]
  },
  {
   "cell_type": "code",
   "execution_count": 32,
   "metadata": {},
   "outputs": [
    {
     "data": {
      "text/html": [
       "<div>\n",
       "<style scoped>\n",
       "    .dataframe tbody tr th:only-of-type {\n",
       "        vertical-align: middle;\n",
       "    }\n",
       "\n",
       "    .dataframe tbody tr th {\n",
       "        vertical-align: top;\n",
       "    }\n",
       "\n",
       "    .dataframe thead th {\n",
       "        text-align: right;\n",
       "    }\n",
       "</style>\n",
       "<table border=\"1\" class=\"dataframe\">\n",
       "  <thead>\n",
       "    <tr style=\"text-align: right;\">\n",
       "      <th></th>\n",
       "      <th>0.05</th>\n",
       "      <th>0.15</th>\n",
       "      <th>0.25</th>\n",
       "      <th>0.35</th>\n",
       "      <th>0.45</th>\n",
       "      <th>0.55</th>\n",
       "      <th>0.65</th>\n",
       "      <th>0.75</th>\n",
       "      <th>0.85</th>\n",
       "      <th>0.95</th>\n",
       "    </tr>\n",
       "  </thead>\n",
       "  <tbody>\n",
       "    <tr>\n",
       "      <th>0.05</th>\n",
       "      <td>89</td>\n",
       "      <td>67</td>\n",
       "      <td>34</td>\n",
       "      <td>4</td>\n",
       "      <td>5</td>\n",
       "      <td>1</td>\n",
       "      <td>1</td>\n",
       "      <td>1</td>\n",
       "      <td>0</td>\n",
       "      <td>0</td>\n",
       "    </tr>\n",
       "    <tr>\n",
       "      <th>0.15</th>\n",
       "      <td>46</td>\n",
       "      <td>2</td>\n",
       "      <td>2</td>\n",
       "      <td>1</td>\n",
       "      <td>1</td>\n",
       "      <td>0</td>\n",
       "      <td>0</td>\n",
       "      <td>0</td>\n",
       "      <td>0</td>\n",
       "      <td>0</td>\n",
       "    </tr>\n",
       "    <tr>\n",
       "      <th>0.25</th>\n",
       "      <td>6</td>\n",
       "      <td>1</td>\n",
       "      <td>0</td>\n",
       "      <td>0</td>\n",
       "      <td>0</td>\n",
       "      <td>0</td>\n",
       "      <td>0</td>\n",
       "      <td>0</td>\n",
       "      <td>0</td>\n",
       "      <td>0</td>\n",
       "    </tr>\n",
       "    <tr>\n",
       "      <th>0.35</th>\n",
       "      <td>0</td>\n",
       "      <td>0</td>\n",
       "      <td>0</td>\n",
       "      <td>0</td>\n",
       "      <td>0</td>\n",
       "      <td>0</td>\n",
       "      <td>0</td>\n",
       "      <td>0</td>\n",
       "      <td>0</td>\n",
       "      <td>0</td>\n",
       "    </tr>\n",
       "    <tr>\n",
       "      <th>0.45</th>\n",
       "      <td>0</td>\n",
       "      <td>0</td>\n",
       "      <td>0</td>\n",
       "      <td>0</td>\n",
       "      <td>0</td>\n",
       "      <td>0</td>\n",
       "      <td>0</td>\n",
       "      <td>0</td>\n",
       "      <td>0</td>\n",
       "      <td>0</td>\n",
       "    </tr>\n",
       "    <tr>\n",
       "      <th>0.55</th>\n",
       "      <td>0</td>\n",
       "      <td>0</td>\n",
       "      <td>0</td>\n",
       "      <td>0</td>\n",
       "      <td>0</td>\n",
       "      <td>0</td>\n",
       "      <td>0</td>\n",
       "      <td>0</td>\n",
       "      <td>0</td>\n",
       "      <td>0</td>\n",
       "    </tr>\n",
       "    <tr>\n",
       "      <th>0.65</th>\n",
       "      <td>0</td>\n",
       "      <td>0</td>\n",
       "      <td>0</td>\n",
       "      <td>0</td>\n",
       "      <td>0</td>\n",
       "      <td>0</td>\n",
       "      <td>0</td>\n",
       "      <td>0</td>\n",
       "      <td>0</td>\n",
       "      <td>0</td>\n",
       "    </tr>\n",
       "    <tr>\n",
       "      <th>0.75</th>\n",
       "      <td>0</td>\n",
       "      <td>0</td>\n",
       "      <td>0</td>\n",
       "      <td>0</td>\n",
       "      <td>0</td>\n",
       "      <td>0</td>\n",
       "      <td>0</td>\n",
       "      <td>0</td>\n",
       "      <td>0</td>\n",
       "      <td>0</td>\n",
       "    </tr>\n",
       "    <tr>\n",
       "      <th>0.85</th>\n",
       "      <td>0</td>\n",
       "      <td>0</td>\n",
       "      <td>0</td>\n",
       "      <td>0</td>\n",
       "      <td>0</td>\n",
       "      <td>0</td>\n",
       "      <td>0</td>\n",
       "      <td>0</td>\n",
       "      <td>0</td>\n",
       "      <td>0</td>\n",
       "    </tr>\n",
       "    <tr>\n",
       "      <th>0.95</th>\n",
       "      <td>0</td>\n",
       "      <td>0</td>\n",
       "      <td>0</td>\n",
       "      <td>0</td>\n",
       "      <td>0</td>\n",
       "      <td>0</td>\n",
       "      <td>0</td>\n",
       "      <td>0</td>\n",
       "      <td>0</td>\n",
       "      <td>0</td>\n",
       "    </tr>\n",
       "  </tbody>\n",
       "</table>\n",
       "</div>"
      ],
      "text/plain": [
       "      0.05  0.15  0.25  0.35  0.45  0.55  0.65  0.75  0.85  0.95\n",
       "0.05    89    67    34     4     5     1     1     1     0     0\n",
       "0.15    46     2     2     1     1     0     0     0     0     0\n",
       "0.25     6     1     0     0     0     0     0     0     0     0\n",
       "0.35     0     0     0     0     0     0     0     0     0     0\n",
       "0.45     0     0     0     0     0     0     0     0     0     0\n",
       "0.55     0     0     0     0     0     0     0     0     0     0\n",
       "0.65     0     0     0     0     0     0     0     0     0     0\n",
       "0.75     0     0     0     0     0     0     0     0     0     0\n",
       "0.85     0     0     0     0     0     0     0     0     0     0\n",
       "0.95     0     0     0     0     0     0     0     0     0     0"
      ]
     },
     "execution_count": 32,
     "metadata": {},
     "output_type": "execute_result"
    }
   ],
   "source": [
    "seg_ths = det_ths = np.around(np.linspace(0.05, 0.95, 10), decimals=3)\n",
    "\n",
    "results_ = []\n",
    "row = 0\n",
    "for i in seg_ths:\n",
    "    results_.append([])\n",
    "    for j in det_ths:\n",
    "        results_[row].append(apcs(X[0], i, j, seg_tech='MABM', dirc='boarding'))\n",
    "    row+=1\n",
    "\n",
    "pd.DataFrame(results_, index=seg_ths, columns=det_ths)"
   ]
  },
  {
   "cell_type": "markdown",
   "metadata": {},
   "source": [
    "#### Estudo do K x Threshold (área)"
   ]
  },
  {
   "cell_type": "code",
   "execution_count": 33,
   "metadata": {},
   "outputs": [
    {
     "data": {
      "text/html": [
       "<div>\n",
       "<style scoped>\n",
       "    .dataframe tbody tr th:only-of-type {\n",
       "        vertical-align: middle;\n",
       "    }\n",
       "\n",
       "    .dataframe tbody tr th {\n",
       "        vertical-align: top;\n",
       "    }\n",
       "\n",
       "    .dataframe thead th {\n",
       "        text-align: right;\n",
       "    }\n",
       "</style>\n",
       "<table border=\"1\" class=\"dataframe\">\n",
       "  <thead>\n",
       "    <tr style=\"text-align: right;\">\n",
       "      <th></th>\n",
       "      <th>5</th>\n",
       "      <th>10</th>\n",
       "      <th>20</th>\n",
       "      <th>40</th>\n",
       "    </tr>\n",
       "  </thead>\n",
       "  <tbody>\n",
       "    <tr>\n",
       "      <th>0.05</th>\n",
       "      <td>19</td>\n",
       "      <td>111</td>\n",
       "      <td>291</td>\n",
       "      <td>595</td>\n",
       "    </tr>\n",
       "    <tr>\n",
       "      <th>0.15</th>\n",
       "      <td>5</td>\n",
       "      <td>37</td>\n",
       "      <td>95</td>\n",
       "      <td>227</td>\n",
       "    </tr>\n",
       "    <tr>\n",
       "      <th>0.25</th>\n",
       "      <td>1</td>\n",
       "      <td>3</td>\n",
       "      <td>12</td>\n",
       "      <td>32</td>\n",
       "    </tr>\n",
       "    <tr>\n",
       "      <th>0.35</th>\n",
       "      <td>2</td>\n",
       "      <td>2</td>\n",
       "      <td>3</td>\n",
       "      <td>4</td>\n",
       "    </tr>\n",
       "    <tr>\n",
       "      <th>0.45</th>\n",
       "      <td>1</td>\n",
       "      <td>1</td>\n",
       "      <td>1</td>\n",
       "      <td>1</td>\n",
       "    </tr>\n",
       "    <tr>\n",
       "      <th>0.55</th>\n",
       "      <td>1</td>\n",
       "      <td>1</td>\n",
       "      <td>2</td>\n",
       "      <td>1</td>\n",
       "    </tr>\n",
       "    <tr>\n",
       "      <th>0.65</th>\n",
       "      <td>0</td>\n",
       "      <td>1</td>\n",
       "      <td>1</td>\n",
       "      <td>2</td>\n",
       "    </tr>\n",
       "    <tr>\n",
       "      <th>0.75</th>\n",
       "      <td>0</td>\n",
       "      <td>0</td>\n",
       "      <td>0</td>\n",
       "      <td>0</td>\n",
       "    </tr>\n",
       "    <tr>\n",
       "      <th>0.85</th>\n",
       "      <td>0</td>\n",
       "      <td>0</td>\n",
       "      <td>0</td>\n",
       "      <td>0</td>\n",
       "    </tr>\n",
       "    <tr>\n",
       "      <th>0.95</th>\n",
       "      <td>0</td>\n",
       "      <td>0</td>\n",
       "      <td>0</td>\n",
       "      <td>0</td>\n",
       "    </tr>\n",
       "  </tbody>\n",
       "</table>\n",
       "</div>"
      ],
      "text/plain": [
       "      5    10   20   40\n",
       "0.05  19  111  291  595\n",
       "0.15   5   37   95  227\n",
       "0.25   1    3   12   32\n",
       "0.35   2    2    3    4\n",
       "0.45   1    1    1    1\n",
       "0.55   1    1    2    1\n",
       "0.65   0    1    1    2\n",
       "0.75   0    0    0    0\n",
       "0.85   0    0    0    0\n",
       "0.95   0    0    0    0"
      ]
     },
     "execution_count": 33,
     "metadata": {},
     "output_type": "execute_result"
    }
   ],
   "source": [
    "K_ar = np.array([5,10,20,40])\n",
    "thresholds = np.linspace(0.05,0.95,10)\n",
    "res = []\n",
    "for ths in thresholds:\n",
    "    for K_a in K_ar:\n",
    "        res.append(apcs_otsu(X[0], ths, K=K_a, dirc='boarding'))\n",
    "\n",
    "res_np = np.array(res).reshape((len(thresholds),len(K_ar)))\n",
    "pd.DataFrame(res_np, index=thresholds, columns=K_ar)"
   ]
  },
  {
   "cell_type": "code",
   "execution_count": 34,
   "metadata": {},
   "outputs": [
    {
     "data": {
      "text/html": [
       "<div>\n",
       "<style scoped>\n",
       "    .dataframe tbody tr th:only-of-type {\n",
       "        vertical-align: middle;\n",
       "    }\n",
       "\n",
       "    .dataframe tbody tr th {\n",
       "        vertical-align: top;\n",
       "    }\n",
       "\n",
       "    .dataframe thead th {\n",
       "        text-align: right;\n",
       "    }\n",
       "</style>\n",
       "<table border=\"1\" class=\"dataframe\">\n",
       "  <thead>\n",
       "    <tr style=\"text-align: right;\">\n",
       "      <th></th>\n",
       "      <th>5</th>\n",
       "    </tr>\n",
       "  </thead>\n",
       "  <tbody>\n",
       "    <tr>\n",
       "      <th>0.050000</th>\n",
       "      <td>19</td>\n",
       "    </tr>\n",
       "    <tr>\n",
       "      <th>0.061111</th>\n",
       "      <td>18</td>\n",
       "    </tr>\n",
       "    <tr>\n",
       "      <th>0.072222</th>\n",
       "      <td>16</td>\n",
       "    </tr>\n",
       "    <tr>\n",
       "      <th>0.083333</th>\n",
       "      <td>15</td>\n",
       "    </tr>\n",
       "    <tr>\n",
       "      <th>0.094444</th>\n",
       "      <td>16</td>\n",
       "    </tr>\n",
       "    <tr>\n",
       "      <th>0.105556</th>\n",
       "      <td>16</td>\n",
       "    </tr>\n",
       "    <tr>\n",
       "      <th>0.116667</th>\n",
       "      <td>14</td>\n",
       "    </tr>\n",
       "    <tr>\n",
       "      <th>0.127778</th>\n",
       "      <td>14</td>\n",
       "    </tr>\n",
       "    <tr>\n",
       "      <th>0.138889</th>\n",
       "      <td>8</td>\n",
       "    </tr>\n",
       "    <tr>\n",
       "      <th>0.150000</th>\n",
       "      <td>5</td>\n",
       "    </tr>\n",
       "  </tbody>\n",
       "</table>\n",
       "</div>"
      ],
      "text/plain": [
       "           5\n",
       "0.050000  19\n",
       "0.061111  18\n",
       "0.072222  16\n",
       "0.083333  15\n",
       "0.094444  16\n",
       "0.105556  16\n",
       "0.116667  14\n",
       "0.127778  14\n",
       "0.138889   8\n",
       "0.150000   5"
      ]
     },
     "execution_count": 34,
     "metadata": {},
     "output_type": "execute_result"
    }
   ],
   "source": [
    "K_ar = np.array([5,10,20,40])\n",
    "thresholds = np.linspace(0.05,0.15,10)\n",
    "res = []\n",
    "for ths in thresholds:\n",
    "    res.append(apcs_otsu(X[0], ths, K=5, dirc='boarding'))\n",
    "\n",
    "pd.DataFrame(res, index=thresholds, columns=[5])"
   ]
  },
  {
   "cell_type": "code",
   "execution_count": 35,
   "metadata": {},
   "outputs": [
    {
     "name": "stdout",
     "output_type": "stream",
     "text": [
      "Numero de pessoas subindo:  7\n"
     ]
    }
   ],
   "source": [
    "pessoas = apcs_otsu(X[0], 0.14, K=5, dirc='boarding')\n",
    "print(\"Numero de pessoas subindo: \", pessoas)"
   ]
  },
  {
   "cell_type": "code",
   "execution_count": 36,
   "metadata": {},
   "outputs": [
    {
     "data": {
      "text/html": [
       "<div>\n",
       "<style scoped>\n",
       "    .dataframe tbody tr th:only-of-type {\n",
       "        vertical-align: middle;\n",
       "    }\n",
       "\n",
       "    .dataframe tbody tr th {\n",
       "        vertical-align: top;\n",
       "    }\n",
       "\n",
       "    .dataframe thead th {\n",
       "        text-align: right;\n",
       "    }\n",
       "</style>\n",
       "<table border=\"1\" class=\"dataframe\">\n",
       "  <thead>\n",
       "    <tr style=\"text-align: right;\">\n",
       "      <th></th>\n",
       "      <th>K=5</th>\n",
       "      <th>valor_real</th>\n",
       "    </tr>\n",
       "  </thead>\n",
       "  <tbody>\n",
       "    <tr>\n",
       "      <th>0</th>\n",
       "      <td>7</td>\n",
       "      <td>7</td>\n",
       "    </tr>\n",
       "    <tr>\n",
       "      <th>1</th>\n",
       "      <td>7</td>\n",
       "      <td>7</td>\n",
       "    </tr>\n",
       "    <tr>\n",
       "      <th>2</th>\n",
       "      <td>7</td>\n",
       "      <td>10</td>\n",
       "    </tr>\n",
       "    <tr>\n",
       "      <th>3</th>\n",
       "      <td>18</td>\n",
       "      <td>13</td>\n",
       "    </tr>\n",
       "    <tr>\n",
       "      <th>4</th>\n",
       "      <td>29</td>\n",
       "      <td>20</td>\n",
       "    </tr>\n",
       "  </tbody>\n",
       "</table>\n",
       "</div>"
      ],
      "text/plain": [
       "   K=5  valor_real\n",
       "0    7           7\n",
       "1    7           7\n",
       "2    7          10\n",
       "3   18          13\n",
       "4   29          20"
      ]
     },
     "execution_count": 36,
     "metadata": {},
     "output_type": "execute_result"
    }
   ],
   "source": [
    "p = []\n",
    "\n",
    "for file in X:\n",
    "    p.append(apcs_otsu(file, 0.14, K=5, dirc='boarding'))\n",
    "\n",
    "p_df = pd.DataFrame(p, columns=['K=5'])\n",
    "p_df.join(valor_real_df)"
   ]
  },
  {
   "cell_type": "code",
   "execution_count": null,
   "metadata": {},
   "outputs": [
    {
     "data": {
      "text/html": [
       "<div>\n",
       "<style scoped>\n",
       "    .dataframe tbody tr th:only-of-type {\n",
       "        vertical-align: middle;\n",
       "    }\n",
       "\n",
       "    .dataframe tbody tr th {\n",
       "        vertical-align: top;\n",
       "    }\n",
       "\n",
       "    .dataframe thead th {\n",
       "        text-align: right;\n",
       "    }\n",
       "</style>\n",
       "<table border=\"1\" class=\"dataframe\">\n",
       "  <thead>\n",
       "    <tr style=\"text-align: right;\">\n",
       "      <th></th>\n",
       "      <th>K=5</th>\n",
       "      <th>valor_real</th>\n",
       "    </tr>\n",
       "  </thead>\n",
       "  <tbody>\n",
       "    <tr>\n",
       "      <th>0</th>\n",
       "      <td>5</td>\n",
       "      <td>7</td>\n",
       "    </tr>\n",
       "    <tr>\n",
       "      <th>1</th>\n",
       "      <td>1</td>\n",
       "      <td>7</td>\n",
       "    </tr>\n",
       "    <tr>\n",
       "      <th>2</th>\n",
       "      <td>8</td>\n",
       "      <td>10</td>\n",
       "    </tr>\n",
       "    <tr>\n",
       "      <th>3</th>\n",
       "      <td>7</td>\n",
       "      <td>13</td>\n",
       "    </tr>\n",
       "    <tr>\n",
       "      <th>4</th>\n",
       "      <td>18</td>\n",
       "      <td>20</td>\n",
       "    </tr>\n",
       "  </tbody>\n",
       "</table>\n",
       "</div>"
      ],
      "text/plain": [
       "   K=5  valor_real\n",
       "0    5           7\n",
       "1    1           7\n",
       "2    8          10\n",
       "3    7          13\n",
       "4   18          20"
      ]
     },
     "execution_count": 37,
     "metadata": {},
     "output_type": "execute_result"
    }
   ],
   "source": [
    "pc = []\n",
    "for file in Y:\n",
    "    pc.append(apcs_otsu(file, 0.14, K=5, dirc='boarding'))\n",
    "\n",
    "pc_df = pd.DataFrame(pc, columns=['K=5'])\n",
    "pc_df.join(valor_real_df)"
   ]
  },
  {
   "cell_type": "markdown",
   "metadata": {},
   "source": [
    "## Método PDS"
   ]
  },
  {
   "cell_type": "markdown",
   "metadata": {},
   "source": [
    "![title](pds.png)"
   ]
  },
  {
   "cell_type": "code",
   "execution_count": 44,
   "metadata": {},
   "outputs": [],
   "source": [
    "def integra(x):\n",
    "    s=np.sum(x,axis=1)\n",
    "    s=np.sum(s,axis=1)\n",
    "    return s"
   ]
  },
  {
   "cell_type": "code",
   "execution_count": 45,
   "metadata": {},
   "outputs": [],
   "source": [
    "def conta_integral(x):\n",
    "    x_cropped=x[:,100:240,0:125]\n",
    "    integral=integra(x_cropped)\n",
    "    integral=integral/np.max(integral)\n",
    "    plt.figure()\n",
    "    plt.plot(integral)\n",
    "    limiar=np.min(integral)+((np.max(integral)-np.min(integral))/2)\n",
    "    plt.plot(limiar*np.ones(integral.shape),'-r')\n",
    "    info_binaria=integral<limiar\n",
    "    plt.figure()\n",
    "    plt.plot(info_binaria)\n",
    "    picos=np.bitwise_and(info_binaria,np.invert(np.roll(info_binaria,1)))\n",
    "    pessoas=np.count_nonzero(picos)\n",
    "    frames_ind=np.nonzero(picos)\n",
    "    return pessoas,frames_ind"
   ]
  },
  {
   "cell_type": "code",
   "execution_count": 46,
   "metadata": {},
   "outputs": [],
   "source": [
    "def conta_integral_explore(x,valor_real,num):\n",
    "    x_cropped=x[:,100:240,0:125]\n",
    "    integral=integra(x_cropped)\n",
    "    integral=integral/np.max(integral)\n",
    "    ref=np.min(integral)+((np.max(integral)-np.min(integral))/2)\n",
    "    limiar_list=np.arange(ref-0.15,ref+0.15,0.01)\n",
    "    pessoas=np.zeros(len(limiar_list))\n",
    "    for i,limiar in enumerate(limiar_list):\n",
    "        info_binaria=integral<limiar\n",
    "        picos=np.bitwise_and(info_binaria,np.invert(np.roll(info_binaria,1)))\n",
    "        pessoas[i]=np.count_nonzero(picos)\n",
    "    tx_erro=np.abs(np.subtract(pessoas,valor_real))/valor_real\n",
    "    plt.figure(figsize=(8,6))\n",
    "    plt.plot(limiar_list,tx_erro,'.-')\n",
    "    plt.plot(limiar_list[15],tx_erro[15],'Dr')\n",
    "    plt.title(\"Taxa de erro do vídeo %i\" %num)\n",
    "    \n",
    "    return tx_erro"
   ]
  },
  {
   "cell_type": "code",
   "execution_count": 47,
   "metadata": {},
   "outputs": [
    {
     "name": "stdout",
     "output_type": "stream",
     "text": [
      "O numero de pessoas contado foi:  10\n",
      "CPU times: user 52.4 ms, sys: 149 µs, total: 52.6 ms\n",
      "Wall time: 51.8 ms\n"
     ]
    },
    {
     "data": {
      "image/png": "[encoded data removed]",
      "text/plain": [
       "<Figure size 432x288 with 1 Axes>"
      ]
     },
     "metadata": {},
     "output_type": "display_data"
    },
    {
     "data": {
      "image/png": "[encoded data removed]",
      "text/plain": [
       "<Figure size 432x288 with 1 Axes>"
      ]
     },
     "metadata": {},
     "output_type": "display_data"
    }
   ],
   "source": [
    "%%time\n",
    "[pessoas,frames]=conta_integral(X[2])\n",
    "print(\"O numero de pessoas contado foi: \",pessoas)"
   ]
  },
  {
   "cell_type": "code",
   "execution_count": 48,
   "metadata": {},
   "outputs": [
    {
     "data": {
      "image/png": "[encoded data removed]",
      "text/plain": [
       "<Figure size 576x432 with 1 Axes>"
      ]
     },
     "metadata": {},
     "output_type": "display_data"
    },
    {
     "data": {
      "image/png": "[encoded data removed]",
      "text/plain": [
       "<Figure size 576x432 with 1 Axes>"
      ]
     },
     "metadata": {},
     "output_type": "display_data"
    },
    {
     "data": {
      "image/png": "[encoded data removed]",
      "text/plain": [
       "<Figure size 576x432 with 1 Axes>"
      ]
     },
     "metadata": {},
     "output_type": "display_data"
    },
    {
     "data": {
      "image/png": "[encoded data removed]",
      "text/plain": [
       "<Figure size 576x432 with 1 Axes>"
      ]
     },
     "metadata": {},
     "output_type": "display_data"
    },
    {
     "data": {
      "image/png": "[encoded data removed]",
      "text/plain": [
       "<Figure size 576x432 with 1 Axes>"
      ]
     },
     "metadata": {},
     "output_type": "display_data"
    }
   ],
   "source": [
    "tx_erro=np.zeros((5,31))\n",
    "for i,x in enumerate(X):\n",
    "    tx_erro[i,:]=conta_integral_explore(x,valor_real[i],i+1)"
   ]
  },
  {
   "cell_type": "code",
   "execution_count": 49,
   "metadata": {},
   "outputs": [
    {
     "data": {
      "text/plain": [
       "[<matplotlib.lines.Line2D at 0x7fcc4eb9b550>]"
      ]
     },
     "execution_count": 49,
     "metadata": {},
     "output_type": "execute_result"
    },
    {
     "data": {
      "image/png": "[encoded data removed]",
      "text/plain": [
       "<Figure size 576x432 with 1 Axes>"
      ]
     },
     "metadata": {},
     "output_type": "display_data"
    }
   ],
   "source": [
    "tx_media=np.average(tx_erro,axis=0)\n",
    "var_limiar=np.arange(-0.15,0.16,0.01)\n",
    "plt.figure(figsize=(8,6))\n",
    "plt.title('Taxa de erro x variação do limiar')\n",
    "plt.plot(var_limiar,tx_media,'.-')\n",
    "plt.plot(var_limiar[15],tx_media[15],'Dr')"
   ]
  }
 ],
 "metadata": {
  "kernelspec": {
   "display_name": "Python 3",
   "language": "python",
   "name": "python3"
  },
  "language_info": {
   "codemirror_mode": {
    "name": "ipython",
    "version": 3
   },
   "file_extension": ".py",
   "mimetype": "text/x-python",
   "name": "python",
   "nbconvert_exporter": "python",
   "pygments_lexer": "ipython3",
   "version": "3.6.5"
  }
 },
 "nbformat": 4,
 "nbformat_minor": 2
}
