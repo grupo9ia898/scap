{
 "cells": [
  {
   "cell_type": "markdown",
   "metadata": {},
   "source": [
    "### Abrindo o vídeo e mostrando o vídeo"
   ]
  },
  {
   "cell_type": "code",
   "execution_count": 1,
   "metadata": {},
   "outputs": [],
   "source": [
    "import numpy as np\n",
    "import matplotlib\n",
    "matplotlib.use('TkAgg')\n",
    "import matplotlib.pyplot as plt\n",
    "from IPython import display\n",
    "from time import sleep\n",
    "\n",
    "import pims\n",
    "from PIL import Image\n",
    "\n",
    "v = pims.Video('../dataset/25_20160407_front/normal/crowd/2016_04_07_06_49_39FrontColor.avi')"
   ]
  },
  {
   "cell_type": "code",
   "execution_count": 2,
   "metadata": {},
   "outputs": [],
   "source": [
    "def play(video):\n",
    "    fig = plt.figure()\n",
    "    ax = fig.gca()\n",
    "    fig.show()\n",
    "\n",
    "    for ii in range(len(video)):\n",
    "        im = video[ii]\n",
    "        plt.imshow(im, cmap='gray')\n",
    "        ax.set_title(ii)\n",
    "\n",
    "        fig.canvas.draw()\n",
    "        sleep(0.1)"
   ]
  },
  {
   "cell_type": "code",
   "execution_count": 3,
   "metadata": {},
   "outputs": [],
   "source": [
    "def play_cmp(video1, video2):\n",
    "    fig = plt.figure(figsize=(18,9))\n",
    "    fig1 = fig.add_subplot(121)\n",
    "    fig2 = fig.add_subplot(122)\n",
    "    ax = fig.gca()\n",
    "    fig.show()\n",
    "\n",
    "    for ii in range(len(video1)):\n",
    "        im1 = video1[ii]\n",
    "        im2 = video2[ii]\n",
    "        fig1.imshow(im1, cmap='gray')\n",
    "        fig2.imshow(im2, cmap='gray')\n",
    "        ax.set_title(ii)\n",
    "\n",
    "        fig.canvas.draw()\n",
    "        sleep(0.1)"
   ]
  },
  {
   "cell_type": "markdown",
   "metadata": {},
   "source": [
    "Algumas informações sobre o vídeo aberto:"
   ]
  },
  {
   "cell_type": "code",
   "execution_count": 4,
   "metadata": {
    "scrolled": false
   },
   "outputs": [
    {
     "name": "stdout",
     "output_type": "stream",
     "text": [
      "{'plugin': 'ffmpeg', 'nframes': 322, 'ffmpeg_version': 'N-86111-ga441aa90e8-static http://johnvansickle.com/ffmpeg/ built with gcc 5.4.1 (Debian 5.4.1-8) 20170304', 'fps': 25.0, 'source_size': (320, 240), 'size': (320, 240), 'duration': 12.88}\n",
      "\n",
      " (322, 240, 320, 3)\n"
     ]
    }
   ],
   "source": [
    "print(v.get_metadata())\n",
    "\n",
    "v_array = np.array(v)\n",
    "print('\\n', v_array.shape)"
   ]
  },
  {
   "cell_type": "markdown",
   "metadata": {},
   "source": [
    "Os campos da *tupla* anterior significam o seguinte:\n",
    "(Frames, Altura, Largura, Cores)"
   ]
  },
  {
   "cell_type": "markdown",
   "metadata": {},
   "source": [
    "### Convertendo o vídeo para escala de cinza"
   ]
  },
  {
   "cell_type": "code",
   "execution_count": 5,
   "metadata": {},
   "outputs": [],
   "source": [
    "def to_gray(video):\n",
    "    frames, width, hight, color = video.shape\n",
    "    video_gray = np.zeros((frames, width, hight), dtype='uint32')\n",
    "    \n",
    "    for ii in range(len(video)):\n",
    "        r, g, b = Image.fromarray(video[ii]).split()\n",
    "        \n",
    "        r = np.array(r, dtype='uint32')\n",
    "        g = np.array(g, dtype='uint32')\n",
    "        b = np.array(b, dtype='uint32')\n",
    "        \n",
    "        video_gray[ii] = (r + g + b) / 3\n",
    "        \n",
    "    return video_gray"
   ]
  },
  {
   "cell_type": "code",
   "execution_count": 6,
   "metadata": {},
   "outputs": [
    {
     "data": {
      "text/plain": [
       "(322, 240, 320)"
      ]
     },
     "execution_count": 6,
     "metadata": {},
     "output_type": "execute_result"
    }
   ],
   "source": [
    "I = to_gray(v_array)\n",
    "I.shape\n",
    "# play(x[0:30])"
   ]
  },
  {
   "cell_type": "markdown",
   "metadata": {},
   "source": [
    "#### Funções auxiliares"
   ]
  },
  {
   "cell_type": "code",
   "execution_count": 7,
   "metadata": {},
   "outputs": [],
   "source": [
    " def histogram(img, bins, range):\n",
    "    h, be = np.histogram(img, bins=bins, range=range)\n",
    "    w = range[-1]/bins\n",
    "    bin_centers = be[1:]-(w/2)\n",
    "    \n",
    "    return bin_centers, h, w"
   ]
  },
  {
   "cell_type": "code",
   "execution_count": 8,
   "metadata": {},
   "outputs": [],
   "source": [
    "def frame_analysis(frame_orig, frame_proc):\n",
    "    tfig = plt.figure()\n",
    "\n",
    "    tfig0 = plt.subplot2grid((4, 4), (0, 0), rowspan=2, colspan=2)\n",
    "    tfig1 = plt.subplot2grid((4, 4), (0, 2), rowspan=2, colspan=2)\n",
    "    tfig2 = plt.subplot2grid((4, 4), (2, 0), rowspan=2, colspan=4)\n",
    "    \n",
    "    tfig0.set_title('Frame original')\n",
    "    tfig0.axis('off')\n",
    "    tfig0.imshow(frame_orig, cmap='gray')\n",
    "\n",
    "    tfig1.set_title('Frame subtraido')\n",
    "    tfig1.axis('off')\n",
    "    tfig1.imshow(frame_proc, cmap='gray')\n",
    "\n",
    "    (bc, h , w) = histogram(frame_proc, 120, (0, 1.0))\n",
    "    \n",
    "    tfig2.bar(bc, h, width=w)\n",
    "    \n",
    "    tfig.show()"
   ]
  },
  {
   "cell_type": "markdown",
   "metadata": {},
   "source": [
    "### Background Modeling Independent of Time"
   ]
  },
  {
   "cell_type": "code",
   "execution_count": 17,
   "metadata": {},
   "outputs": [],
   "source": [
    "tao = 0.98  # Threshold"
   ]
  },
  {
   "cell_type": "code",
   "execution_count": 18,
   "metadata": {},
   "outputs": [],
   "source": [
    "B_BMIT = I[0] # background model\n",
    "D_BMIT = np.abs(I - B_BMIT) # background subtraction\n",
    "\n",
    "# foreground mask\n",
    "F_BMIT = D_BMIT.copy() \n",
    "F_BMIT = F_BMIT / F_BMIT.max()\n",
    "F_BMIT[F_BMIT >= tao] = 1.0\n",
    "F_BMIT[F_BMIT < tao] = 0"
   ]
  },
  {
   "cell_type": "code",
   "execution_count": 19,
   "metadata": {},
   "outputs": [],
   "source": [
    "frame_analysis(I[47], D_BMIT[47])\n",
    "frame_analysis(I[47], F_BMIT[47])"
   ]
  },
  {
   "cell_type": "markdown",
   "metadata": {},
   "source": [
    "###  The Long Term Average Background Modeling"
   ]
  },
  {
   "cell_type": "code",
   "execution_count": 24,
   "metadata": {},
   "outputs": [],
   "source": [
    "tao_LTAMBM = 0.2\n",
    "\n",
    "# backgound model\n",
    "B_LTAMBM = np.zeros(I.shape)\n",
    "for k in range(1, len(I)):\n",
    "    B_LTAMBM[k] = (1-1/k)*B_LTAMBM[k-1] + (1/k) *I[k]\n",
    "\n",
    "D_LTAMBM = np.abs(I - B_LTAMBM) # background subtraction\n",
    "\n",
    "# foreground mask\n",
    "F_LTAMBM = D_LTAMBM.copy() \n",
    "F_LTAMBM = F_LTAMBM / F_LTAMBM.max()\n",
    "F_LTAMBM[F_LTAMBM >= tao_LTAMBM] = 1.0\n",
    "F_LTAMBM[F_LTAMBM < tao_LTAMBM] = 0"
   ]
  },
  {
   "cell_type": "code",
   "execution_count": 23,
   "metadata": {},
   "outputs": [],
   "source": [
    "frame_analysis(I[47], D_LTAMBM[47])\n",
    "frame_analysis(I[47], F_LTAMBM[47])"
   ]
  },
  {
   "cell_type": "markdown",
   "metadata": {},
   "source": [
    "### Moving Average Backgound Modeling"
   ]
  },
  {
   "cell_type": "code",
   "execution_count": 27,
   "metadata": {},
   "outputs": [],
   "source": [
    "tao_MABM = 0.2\n",
    "\n",
    "# background modeling\n",
    "W = 5\n",
    "B_MABM = np.zeros(I.shape)\n",
    "for k in range((W-1), len(I)-1):\n",
    "    B_MABM[k] = (1/W)*np.sum(I[(k-(W-1)):(k+1),:,:], axis=0)\n",
    "\n",
    "D_MABM = np.abs(I - B_MABM) # background subtraction\n",
    "\n",
    "# foreground mask\n",
    "F_MABM = D_MABM.copy() \n",
    "F_MABM = F_MABM / F_MABM.max()\n",
    "F_MABM[F_MABM >= tao_MABM] = 1.0\n",
    "F_MABM[F_MABM < tao_MABM] = 0"
   ]
  },
  {
   "cell_type": "code",
   "execution_count": 28,
   "metadata": {},
   "outputs": [],
   "source": [
    "frame_analysis(I[47], D_MABM[47])\n",
    "frame_analysis(I[47], F_MABM[47])"
   ]
  }
 ],
 "metadata": {
  "kernelspec": {
   "display_name": "Python 3",
   "language": "python",
   "name": "python3"
  },
  "language_info": {
   "codemirror_mode": {
    "name": "ipython",
    "version": 3
   },
   "file_extension": ".py",
   "mimetype": "text/x-python",
   "name": "python",
   "nbconvert_exporter": "python",
   "pygments_lexer": "ipython3",
   "version": "3.6.5"
  }
 },
 "nbformat": 4,
 "nbformat_minor": 2
}
