{
 "cells": [
  {
   "cell_type": "markdown",
   "metadata": {},
   "source": [
    "# Implementação de um contador automático de passageiros de ônibus\n",
    "**Autores: Ronaldo Nunez e Vitor Lima**\n",
    "\n",
    "**Disciplina IA898-A: Processamento digital de Imagens**"
   ]
  },
  {
   "cell_type": "markdown",
   "metadata": {},
   "source": [
    "### Importando as dependências"
   ]
  },
  {
   "cell_type": "code",
   "execution_count": 3,
   "metadata": {},
   "outputs": [],
   "source": [
    "import numpy as np\n",
    "import matplotlib.pyplot as plt\n",
    "import pims\n",
    "from PIL import Image\n",
    "from skimage import filters\n",
    "import pandas as pd"
   ]
  },
  {
   "cell_type": "markdown",
   "metadata": {},
   "source": [
    "#### Funções auxiliares"
   ]
  },
  {
   "cell_type": "code",
   "execution_count": 4,
   "metadata": {},
   "outputs": [],
   "source": [
    " def histogram(img, bins, range):\n",
    "    h, be = np.histogram(img, bins=bins, range=range)\n",
    "    w = range[-1]/bins\n",
    "    bin_centers = be[1:]-(w/2)\n",
    "    \n",
    "    return bin_centers, h, w"
   ]
  },
  {
   "cell_type": "code",
   "execution_count": 5,
   "metadata": {},
   "outputs": [],
   "source": [
    "def frame_analysis(frame_orig, frame_proc):\n",
    "    tfig = plt.figure()\n",
    "\n",
    "    tfig0 = plt.subplot2grid((4, 4), (0, 0), rowspan=2, colspan=2)\n",
    "    tfig1 = plt.subplot2grid((4, 4), (0, 2), rowspan=2, colspan=2)\n",
    "    tfig2 = plt.subplot2grid((4, 4), (2, 0), rowspan=2, colspan=4)\n",
    "    \n",
    "    tfig0.set_title('Frame original')\n",
    "    tfig0.axis('off')\n",
    "    tfig0.imshow(frame_orig, cmap='gray')\n",
    "\n",
    "    tfig1.set_title('Frame subtraido')\n",
    "    tfig1.axis('off')\n",
    "    tfig1.imshow(frame_proc, cmap='gray')\n",
    "\n",
    "    (bc, h , w) = histogram(frame_proc, 120, (0, 1.0))\n",
    "    \n",
    "    tfig2.bar(bc, h, width=w)"
   ]
  },
  {
   "cell_type": "code",
   "execution_count": 6,
   "metadata": {},
   "outputs": [],
   "source": [
    "# Fonte: https://code.i-harness.com/en/q/c53fb2\n",
    "def unique(array):\n",
    "    uniq, index = np.unique(array, axis=0, return_index=True)\n",
    "    return uniq[index.argsort()]"
   ]
  },
  {
   "cell_type": "code",
   "execution_count": 7,
   "metadata": {},
   "outputs": [],
   "source": [
    "def to_gray(video):\n",
    "    frames, width, hight, color = video.shape\n",
    "    video_gray = np.zeros((frames, width, hight), dtype='uint32')\n",
    "    \n",
    "    for ii in range(len(video)):\n",
    "        r, g, b = Image.fromarray(video[ii]).split()\n",
    "        \n",
    "        r = np.array(r, dtype='uint32')\n",
    "        g = np.array(g, dtype='uint32')\n",
    "        b = np.array(b, dtype='uint32')\n",
    "        \n",
    "        video_gray[ii] = (r + g + b) / 3\n",
    "        \n",
    "    return video_gray"
   ]
  },
  {
   "cell_type": "markdown",
   "metadata": {},
   "source": [
    "### Abrindo os vídeos"
   ]
  },
  {
   "cell_type": "code",
   "execution_count": 44,
   "metadata": {},
   "outputs": [],
   "source": [
    "v = pims.Video('../dataset/25_20160407_back/noisy/uncrowd/2016_04_07_09_09_57BackDepth.avi')\n",
    "\n",
    "v_array = np.array(v)"
   ]
  },
  {
   "cell_type": "markdown",
   "metadata": {},
   "source": [
    "Algumas informações sobre o vídeo aberto:"
   ]
  },
  {
   "cell_type": "code",
   "execution_count": 9,
   "metadata": {
    "scrolled": false
   },
   "outputs": [
    {
     "name": "stdout",
     "output_type": "stream",
     "text": [
      "{'plugin': 'ffmpeg', 'nframes': 384, 'ffmpeg_version': 'N-86111-ga441aa90e8-static http://johnvansickle.com/ffmpeg/ built with gcc 5.4.1 (Debian 5.4.1-8) 20170304', 'fps': 25.0, 'source_size': (320, 240), 'size': (320, 240), 'duration': 15.36}\n",
      "\n",
      " (384, 240, 320, 3)\n"
     ]
    }
   ],
   "source": [
    "print(v.get_metadata())\n",
    "print('\\n', v_array.shape)\n",
    "\n",
    "N_frames = v_array.shape[0]\n",
    "width = v_array.shape[1]\n",
    "height = v_array.shape[2]\n",
    "channel_colors = v_array.shape[3]"
   ]
  },
  {
   "cell_type": "markdown",
   "metadata": {},
   "source": [
    "Os campos da *tupla* anterior significam o seguinte:\n",
    "(Frames, Altura, Largura, Cores)"
   ]
  },
  {
   "cell_type": "markdown",
   "metadata": {},
   "source": [
    "### Pré-processamento"
   ]
  },
  {
   "cell_type": "markdown",
   "metadata": {},
   "source": [
    "O pré-processamento consiste exclusivamente em deixar o vídeo em escala de cinza."
   ]
  },
  {
   "cell_type": "code",
   "execution_count": 45,
   "metadata": {},
   "outputs": [
    {
     "data": {
      "text/plain": [
       "(390, 240, 320)"
      ]
     },
     "execution_count": 45,
     "metadata": {},
     "output_type": "execute_result"
    }
   ],
   "source": [
    "I = to_gray(v_array)\n",
    "I.shape"
   ]
  },
  {
   "cell_type": "markdown",
   "metadata": {},
   "source": [
    "### Determinando o modelo de fundo"
   ]
  },
  {
   "cell_type": "code",
   "execution_count": 11,
   "metadata": {},
   "outputs": [],
   "source": [
    "# TODO: Implementar técnica de determinação automática de threshold"
   ]
  },
  {
   "cell_type": "markdown",
   "metadata": {},
   "source": [
    "#### Background Modeling Independent of Time"
   ]
  },
  {
   "cell_type": "code",
   "execution_count": 12,
   "metadata": {},
   "outputs": [],
   "source": [
    "def fgmask_BMIT(video, tao):\n",
    "    B_BMIT = video[0] # background model\n",
    "    D_BMIT = np.abs(video - B_BMIT) # background subtraction\n",
    "\n",
    "    # foreground mask\n",
    "    F_BMIT = D_BMIT.copy() \n",
    "    F_BMIT = F_BMIT / F_BMIT.max()\n",
    "    F_BMIT[F_BMIT >= tao] = 1.0\n",
    "    F_BMIT[F_BMIT < tao] = 0\n",
    "    \n",
    "    return F_BMIT"
   ]
  },
  {
   "cell_type": "code",
   "execution_count": 13,
   "metadata": {},
   "outputs": [
    {
     "data": {
      "image/png": "[encoded data removed]",
      "text/plain": [
       "<Figure size 432x288 with 3 Axes>"
      ]
     },
     "metadata": {},
     "output_type": "display_data"
    }
   ],
   "source": [
    "tao_BMIT = 0.98  # Threshold\n",
    "F_BMIT = fgmask_BMIT(I, tao_BMIT)\n",
    "frame_analysis(I[47], F_BMIT[47])"
   ]
  },
  {
   "cell_type": "code",
   "execution_count": 14,
   "metadata": {},
   "outputs": [],
   "source": [
    "def fgmask_BMIT_otsu(video):\n",
    "    B_BMIT = video[0] # background model\n",
    "    D_BMIT = np.abs(video - B_BMIT) # background subtraction\n",
    "\n",
    "    # foreground mask\n",
    "\n",
    "    F_BMIT = D_BMIT.copy() \n",
    "    F_BMIT = F_BMIT / F_BMIT.max()\n",
    "    tao = filters.threshold_otsu(F_BMIT)\n",
    "    F_BMIT[F_BMIT >= tao] = 1.0\n",
    "    F_BMIT[F_BMIT < tao] = 0\n",
    "    \n",
    "    return F_BMIT"
   ]
  },
  {
   "cell_type": "code",
   "execution_count": 50,
   "metadata": {},
   "outputs": [
    {
     "data": {
      "image/png": "[encoded data removed]",
      "text/plain": [
       "<Figure size 432x288 with 3 Axes>"
      ]
     },
     "metadata": {},
     "output_type": "display_data"
    }
   ],
   "source": [
    "F_BMIT = fgmask_BMIT_otsu(I)\n",
    "frame_analysis(I[47], F_BMIT[47])"
   ]
  },
  {
   "cell_type": "markdown",
   "metadata": {},
   "source": [
    "####  The Long Term Average Background Modeling"
   ]
  },
  {
   "cell_type": "code",
   "execution_count": 16,
   "metadata": {},
   "outputs": [],
   "source": [
    "def fgmask_LTABM(video, tao):\n",
    "    # backgound model\n",
    "    B_LTAMBM = np.zeros(video.shape)\n",
    "    for k in range(1, len(video)):\n",
    "        B_LTAMBM[k] = (1-1/k)*B_LTAMBM[k-1] + (1/k) *video[k]\n",
    "\n",
    "    D_LTAMBM = np.abs(video - B_LTAMBM) # background subtraction\n",
    "\n",
    "    # foreground mask\n",
    "    F_LTAMBM = D_LTAMBM.copy() \n",
    "    F_LTAMBM = F_LTAMBM / F_LTAMBM.max()\n",
    "    F_LTAMBM[F_LTAMBM >= tao_LTAMBM] = 1.0\n",
    "    F_LTAMBM[F_LTAMBM < tao_LTAMBM] = 0\n",
    "    \n",
    "    return F_LTAMBM"
   ]
  },
  {
   "cell_type": "code",
   "execution_count": 49,
   "metadata": {},
   "outputs": [
    {
     "data": {
      "image/png": "[encoded data removed]",
      "text/plain": [
       "<Figure size 432x288 with 3 Axes>"
      ]
     },
     "metadata": {},
     "output_type": "display_data"
    }
   ],
   "source": [
    "tao_LTAMBM = 0.2\n",
    "F_LTAMBM = fgmask_LTABM(I, tao_LTAMBM)\n",
    "frame_analysis(I[47], F_LTAMBM[47])"
   ]
  },
  {
   "cell_type": "code",
   "execution_count": 55,
   "metadata": {},
   "outputs": [],
   "source": [
    "def fgmask_LTABM_otsu(video):\n",
    "    # backgound model\n",
    "    B_LTAMBM = np.zeros(video.shape)\n",
    "    for k in range(1, len(video)):\n",
    "        B_LTAMBM[k] = (1-1/k)*B_LTAMBM[k-1] + (1/k) *video[k]\n",
    "\n",
    "    D_LTAMBM = np.abs(video - B_LTAMBM) # background subtraction\n",
    "    # foreground mask\n",
    "    F_LTAMBM = D_LTAMBM.copy() \n",
    "    F_LTAMBM = F_LTAMBM / F_LTAMBM.max()\n",
    "    tao = filters.threshold_otsu(F_LTAMBM)\n",
    "    F_LTAMBM[F_LTAMBM >= tao] = 1.0\n",
    "    F_LTAMBM[F_LTAMBM < tao] = 0\n",
    "    \n",
    "    return F_LTAMBM"
   ]
  },
  {
   "cell_type": "code",
   "execution_count": 56,
   "metadata": {},
   "outputs": [
    {
     "data": {
      "image/png": "[encoded data removed]",
      "text/plain": [
       "<Figure size 432x288 with 3 Axes>"
      ]
     },
     "metadata": {},
     "output_type": "display_data"
    }
   ],
   "source": [
    "F_LTAMBM = fgmask_LTABM_otsu(I)\n",
    "frame_analysis(I[47], F_LTAMBM[47])"
   ]
  },
  {
   "cell_type": "markdown",
   "metadata": {},
   "source": [
    "#### Moving Average Backgound Modeling"
   ]
  },
  {
   "cell_type": "code",
   "execution_count": 20,
   "metadata": {},
   "outputs": [],
   "source": [
    "def fgmodel_MABM(video, tao, past=10):\n",
    "    # background modeling\n",
    "    B_MABM = np.zeros(video.shape)\n",
    "    for k in range((past-1), len(video)-1):\n",
    "        B_MABM[k] = (1/past)*np.sum(video[(k-(past-1)):(k+1),:,:], axis=0)\n",
    "\n",
    "    D_MABM = np.abs(video - B_MABM) # background subtraction\n",
    "\n",
    "    # foreground mask\n",
    "    F_MABM = D_MABM.copy() \n",
    "    F_MABM = F_MABM / F_MABM.max()\n",
    "    F_MABM[F_MABM >= tao] = 1.0\n",
    "    F_MABM[F_MABM < tao] = 0\n",
    "    \n",
    "    return F_MABM"
   ]
  },
  {
   "cell_type": "code",
   "execution_count": 51,
   "metadata": {},
   "outputs": [
    {
     "data": {
      "image/png": "[encoded data removed]",
      "text/plain": [
       "<Figure size 432x288 with 3 Axes>"
      ]
     },
     "metadata": {},
     "output_type": "display_data"
    }
   ],
   "source": [
    "tao_MABM = 0.2\n",
    "F_MABM = fgmodel_MABM(I, tao_MABM, 5)\n",
    "frame_analysis(I[47], F_MABM[47])"
   ]
  },
  {
   "cell_type": "code",
   "execution_count": 22,
   "metadata": {},
   "outputs": [],
   "source": [
    "def fgmodel_MABM_otsu(video, past=10):\n",
    "    # background modeling\n",
    "    B_MABM = np.zeros(video.shape)\n",
    "    for k in range((past-1), len(video)-1):\n",
    "        B_MABM[k] = (1/past)*np.sum(video[(k-(past-1)):(k+1),:,:], axis=0)\n",
    "\n",
    "    D_MABM = np.abs(video - B_MABM) # background subtraction\n",
    "\n",
    "    # foreground mask\n",
    "    F_MABM = D_MABM.copy() \n",
    "    F_MABM = F_MABM / F_MABM.max()\n",
    "    tao = filters.threshold_otsu(F_MABM)\n",
    "    F_MABM[F_MABM >= tao] = 1.0\n",
    "    F_MABM[F_MABM < tao] = 0\n",
    "    \n",
    "    return F_MABM"
   ]
  },
  {
   "cell_type": "code",
   "execution_count": 52,
   "metadata": {},
   "outputs": [
    {
     "data": {
      "image/png": "[encoded data removed]",
      "text/plain": [
       "<Figure size 432x288 with 3 Axes>"
      ]
     },
     "metadata": {},
     "output_type": "display_data"
    }
   ],
   "source": [
    "F_MABM = fgmodel_MABM_otsu(I, 20)\n",
    "frame_analysis(I[47], F_MABM[47])"
   ]
  },
  {
   "cell_type": "markdown",
   "metadata": {},
   "source": [
    "### Detecção"
   ]
  },
  {
   "cell_type": "code",
   "execution_count": 24,
   "metadata": {
    "scrolled": true
   },
   "outputs": [
    {
     "name": "stdout",
     "output_type": "stream",
     "text": [
      "(384, 240, 320)\n",
      "H = 240, W = 320\n"
     ]
    }
   ],
   "source": [
    "print(I.shape)\n",
    "\n",
    "H = I.shape[1] # altura, em pixels, na direção do fluxo\n",
    "W = I.shape[2] # largura, em pixels, perpendicular ao fluxo\n",
    "print('H = {}, W = {}'.format(H, W))\n",
    "\n",
    "K = 10\n",
    "Theta = 0.2 # threshold: quanto da área ocupada"
   ]
  },
  {
   "cell_type": "code",
   "execution_count": 25,
   "metadata": {},
   "outputs": [],
   "source": [
    "def active_strips(foregd_frame, Theta, H, W, K):\n",
    "    delta = W / K\n",
    "\n",
    "    C_area = delta * H/2\n",
    "    A = np.array([], dtype='uint32')\n",
    "\n",
    "    for C_i in np.hsplit(foregd_frame, K):\n",
    "        for C_j in np.vsplit(C_i, 2):\n",
    "            aux = 1 if ((C_j == 1).sum() >= C_area*Theta) else 0\n",
    "            A = np.append(A, aux)\n",
    "\n",
    "    A = np.vstack((A[0::2], A[1::2]))\n",
    "    \n",
    "    return A"
   ]
  },
  {
   "cell_type": "code",
   "execution_count": 26,
   "metadata": {},
   "outputs": [],
   "source": [
    "def active_strips_changes(fgmodel_video, Theta, H, W, K):\n",
    "    A_vid = np.zeros((fgmodel_video.shape[0], 2, K))\n",
    "\n",
    "    i = 0\n",
    "    for frame in fgmodel_video:\n",
    "        A_vid[i] = active_strips(frame, Theta, H, W, K)\n",
    "        i += 1\n",
    "\n",
    "    return unique(A_vid)"
   ]
  },
  {
   "cell_type": "code",
   "execution_count": 27,
   "metadata": {
    "scrolled": true
   },
   "outputs": [],
   "source": [
    "A_teste = active_strips_changes(F_LTAMBM, 0.2, I.shape[1], I.shape[2], 10)"
   ]
  },
  {
   "cell_type": "markdown",
   "metadata": {},
   "source": [
    "### Contagem automática"
   ]
  },
  {
   "cell_type": "code",
   "execution_count": 28,
   "metadata": {},
   "outputs": [],
   "source": [
    "def people_counter(asc_video):\n",
    "    people_brd = 0\n",
    "    people_unbrd = 0\n",
    "\n",
    "    for f in range(1, asc_video.shape[0]):\n",
    "        for i in range(asc_video.shape[2]):\n",
    "            if ((asc_video[f-1, 0, i] == 1) and \n",
    "                (asc_video[f-1, 1, i] == 0) and\n",
    "                (asc_video[f, 1, i] == 1) ):\n",
    "                people_brd += 1\n",
    "            \n",
    "            if ((asc_video[f-1, 0, i] == 0) and \n",
    "                (asc_video[f-1, 1, i] == 1) and\n",
    "                (asc_video[f, 0, i] == 1) ):\n",
    "                people_unbrd += 1\n",
    "\n",
    "\n",
    "    return {'boarding': people_brd, 'unboarding': people_unbrd}"
   ]
  },
  {
   "cell_type": "code",
   "execution_count": 29,
   "metadata": {},
   "outputs": [
    {
     "data": {
      "text/plain": [
       "{'boarding': 27, 'unboarding': 22}"
      ]
     },
     "execution_count": 29,
     "metadata": {},
     "output_type": "execute_result"
    }
   ],
   "source": [
    "people_counter(A_teste)"
   ]
  },
  {
   "cell_type": "markdown",
   "metadata": {},
   "source": [
    "### Implementando a técnica em uma única função"
   ]
  },
  {
   "cell_type": "code",
   "execution_count": 30,
   "metadata": {},
   "outputs": [],
   "source": [
    "def apcs(video_path, seg_threshold, det_threshold, K=10, past=5, seg_tech='MABM', dirc='boarding'):\n",
    "    v = pims.Video(video_path)\n",
    "    v_array = np.array(v)\n",
    "    \n",
    "    I = to_gray(v_array)\n",
    "    \n",
    "    if (seg_tech == 'BMIT'):\n",
    "        F_BMIT = fgmask_BMIT(I, seg_threshold)\n",
    "        A_test = active_strips_changes(F_BMIT, det_threshold, I.shape[1], I.shape[2], K)\n",
    "    elif(seg_tech == 'LTAMBM'):\n",
    "        F_LTAMBM = fgmask_LTABM(I, seg_threshold)\n",
    "        A_test = active_strips_changes(F_LTAMBM, det_threshold, I.shape[1], I.shape[2], K)\n",
    "    elif(seg_tech == 'MABM'):\n",
    "        F_MABM = fgmodel_MABM(I, seg_threshold, past=past)\n",
    "        A_test = active_strips_changes(F_MABM, det_threshold, I.shape[1], I.shape[2], K)\n",
    "    else:\n",
    "        pass\n",
    "    \n",
    "    return people_counter(A_test)[dirc]"
   ]
  },
  {
   "cell_type": "code",
   "execution_count": 32,
   "metadata": {},
   "outputs": [
    {
     "name": "stdout",
     "output_type": "stream",
     "text": [
      "Subindo:  1\n",
      "Descendo:  0\n"
     ]
    }
   ],
   "source": [
    "print('Subindo: ', apcs('../dataset/25_20160407_front/normal/crowd/2016_04_07_06_49_39FrontColor.avi', 0.12, 0.27, dirc='boarding'))\n",
    "print('Descendo: ', apcs('../dataset/25_20160407_front/normal/crowd/2016_04_07_06_49_39FrontColor.avi', 0.11, 0.27, dirc='unboarding'))"
   ]
  },
  {
   "cell_type": "code",
   "execution_count": 259,
   "metadata": {},
   "outputs": [
    {
     "data": {
      "text/html": [
       "<div>\n",
       "<style scoped>\n",
       "    .dataframe tbody tr th:only-of-type {\n",
       "        vertical-align: middle;\n",
       "    }\n",
       "\n",
       "    .dataframe tbody tr th {\n",
       "        vertical-align: top;\n",
       "    }\n",
       "\n",
       "    .dataframe thead th {\n",
       "        text-align: right;\n",
       "    }\n",
       "</style>\n",
       "<table border=\"1\" class=\"dataframe\">\n",
       "  <thead>\n",
       "    <tr style=\"text-align: right;\">\n",
       "      <th></th>\n",
       "      <th>0.05</th>\n",
       "      <th>0.15</th>\n",
       "      <th>0.25</th>\n",
       "      <th>0.35</th>\n",
       "      <th>0.45</th>\n",
       "      <th>0.55</th>\n",
       "      <th>0.65</th>\n",
       "      <th>0.75</th>\n",
       "      <th>0.85</th>\n",
       "      <th>0.95</th>\n",
       "    </tr>\n",
       "  </thead>\n",
       "  <tbody>\n",
       "    <tr>\n",
       "      <th>0.05</th>\n",
       "      <td>33</td>\n",
       "      <td>24</td>\n",
       "      <td>13</td>\n",
       "      <td>4</td>\n",
       "      <td>0</td>\n",
       "      <td>1</td>\n",
       "      <td>1</td>\n",
       "      <td>1</td>\n",
       "      <td>0</td>\n",
       "      <td>0</td>\n",
       "    </tr>\n",
       "    <tr>\n",
       "      <th>0.15</th>\n",
       "      <td>16</td>\n",
       "      <td>1</td>\n",
       "      <td>1</td>\n",
       "      <td>1</td>\n",
       "      <td>1</td>\n",
       "      <td>0</td>\n",
       "      <td>0</td>\n",
       "      <td>0</td>\n",
       "      <td>0</td>\n",
       "      <td>0</td>\n",
       "    </tr>\n",
       "    <tr>\n",
       "      <th>0.25</th>\n",
       "      <td>2</td>\n",
       "      <td>0</td>\n",
       "      <td>1</td>\n",
       "      <td>0</td>\n",
       "      <td>0</td>\n",
       "      <td>0</td>\n",
       "      <td>0</td>\n",
       "      <td>0</td>\n",
       "      <td>0</td>\n",
       "      <td>0</td>\n",
       "    </tr>\n",
       "    <tr>\n",
       "      <th>0.35</th>\n",
       "      <td>0</td>\n",
       "      <td>0</td>\n",
       "      <td>0</td>\n",
       "      <td>0</td>\n",
       "      <td>0</td>\n",
       "      <td>0</td>\n",
       "      <td>0</td>\n",
       "      <td>0</td>\n",
       "      <td>0</td>\n",
       "      <td>0</td>\n",
       "    </tr>\n",
       "    <tr>\n",
       "      <th>0.45</th>\n",
       "      <td>0</td>\n",
       "      <td>0</td>\n",
       "      <td>0</td>\n",
       "      <td>0</td>\n",
       "      <td>0</td>\n",
       "      <td>0</td>\n",
       "      <td>0</td>\n",
       "      <td>0</td>\n",
       "      <td>0</td>\n",
       "      <td>0</td>\n",
       "    </tr>\n",
       "    <tr>\n",
       "      <th>0.55</th>\n",
       "      <td>0</td>\n",
       "      <td>0</td>\n",
       "      <td>0</td>\n",
       "      <td>0</td>\n",
       "      <td>0</td>\n",
       "      <td>0</td>\n",
       "      <td>0</td>\n",
       "      <td>0</td>\n",
       "      <td>0</td>\n",
       "      <td>0</td>\n",
       "    </tr>\n",
       "    <tr>\n",
       "      <th>0.65</th>\n",
       "      <td>0</td>\n",
       "      <td>0</td>\n",
       "      <td>0</td>\n",
       "      <td>0</td>\n",
       "      <td>0</td>\n",
       "      <td>0</td>\n",
       "      <td>0</td>\n",
       "      <td>0</td>\n",
       "      <td>0</td>\n",
       "      <td>0</td>\n",
       "    </tr>\n",
       "    <tr>\n",
       "      <th>0.75</th>\n",
       "      <td>0</td>\n",
       "      <td>0</td>\n",
       "      <td>0</td>\n",
       "      <td>0</td>\n",
       "      <td>0</td>\n",
       "      <td>0</td>\n",
       "      <td>0</td>\n",
       "      <td>0</td>\n",
       "      <td>0</td>\n",
       "      <td>0</td>\n",
       "    </tr>\n",
       "    <tr>\n",
       "      <th>0.85</th>\n",
       "      <td>0</td>\n",
       "      <td>0</td>\n",
       "      <td>0</td>\n",
       "      <td>0</td>\n",
       "      <td>0</td>\n",
       "      <td>0</td>\n",
       "      <td>0</td>\n",
       "      <td>0</td>\n",
       "      <td>0</td>\n",
       "      <td>0</td>\n",
       "    </tr>\n",
       "    <tr>\n",
       "      <th>0.95</th>\n",
       "      <td>0</td>\n",
       "      <td>0</td>\n",
       "      <td>0</td>\n",
       "      <td>0</td>\n",
       "      <td>0</td>\n",
       "      <td>0</td>\n",
       "      <td>0</td>\n",
       "      <td>0</td>\n",
       "      <td>0</td>\n",
       "      <td>0</td>\n",
       "    </tr>\n",
       "  </tbody>\n",
       "</table>\n",
       "</div>"
      ],
      "text/plain": [
       "      0.05  0.15  0.25  0.35  0.45  0.55  0.65  0.75  0.85  0.95\n",
       "0.05    33    24    13     4     0     1     1     1     0     0\n",
       "0.15    16     1     1     1     1     0     0     0     0     0\n",
       "0.25     2     0     1     0     0     0     0     0     0     0\n",
       "0.35     0     0     0     0     0     0     0     0     0     0\n",
       "0.45     0     0     0     0     0     0     0     0     0     0\n",
       "0.55     0     0     0     0     0     0     0     0     0     0\n",
       "0.65     0     0     0     0     0     0     0     0     0     0\n",
       "0.75     0     0     0     0     0     0     0     0     0     0\n",
       "0.85     0     0     0     0     0     0     0     0     0     0\n",
       "0.95     0     0     0     0     0     0     0     0     0     0"
      ]
     },
     "execution_count": 259,
     "metadata": {},
     "output_type": "execute_result"
    }
   ],
   "source": [
    "seg_ths = det_ths = np.around(np.linspace(0.05, 0.95, 10), decimals=3)\n",
    "\n",
    "results_ = []\n",
    "row = 0\n",
    "for i in seg_ths:\n",
    "    results_.append([])\n",
    "    for j in det_ths:\n",
    "        results_[row].append(apcs('../dataset/25_20160407_front/normal/uncrowd/depth/2016_04_07_16_39_44FrontDepth.avi', i, j, \n",
    "                             seg_tech='MABM', dirc='boarding'))\n",
    "    row+=1\n",
    "\n",
    "pd.DataFrame(results_, index=seg_ths, columns=det_ths)"
   ]
  },
  {
   "cell_type": "code",
   "execution_count": 260,
   "metadata": {},
   "outputs": [
    {
     "data": {
      "text/html": [
       "<div>\n",
       "<style scoped>\n",
       "    .dataframe tbody tr th:only-of-type {\n",
       "        vertical-align: middle;\n",
       "    }\n",
       "\n",
       "    .dataframe tbody tr th {\n",
       "        vertical-align: top;\n",
       "    }\n",
       "\n",
       "    .dataframe thead th {\n",
       "        text-align: right;\n",
       "    }\n",
       "</style>\n",
       "<table border=\"1\" class=\"dataframe\">\n",
       "  <thead>\n",
       "    <tr style=\"text-align: right;\">\n",
       "      <th></th>\n",
       "      <th>0.05</th>\n",
       "      <th>0.15</th>\n",
       "      <th>0.25</th>\n",
       "      <th>0.35</th>\n",
       "      <th>0.45</th>\n",
       "      <th>0.55</th>\n",
       "      <th>0.65</th>\n",
       "      <th>0.75</th>\n",
       "      <th>0.85</th>\n",
       "      <th>0.95</th>\n",
       "    </tr>\n",
       "  </thead>\n",
       "  <tbody>\n",
       "    <tr>\n",
       "      <th>0.05</th>\n",
       "      <td>46</td>\n",
       "      <td>19</td>\n",
       "      <td>8</td>\n",
       "      <td>3</td>\n",
       "      <td>0</td>\n",
       "      <td>0</td>\n",
       "      <td>0</td>\n",
       "      <td>0</td>\n",
       "      <td>1</td>\n",
       "      <td>0</td>\n",
       "    </tr>\n",
       "    <tr>\n",
       "      <th>0.15</th>\n",
       "      <td>12</td>\n",
       "      <td>1</td>\n",
       "      <td>2</td>\n",
       "      <td>1</td>\n",
       "      <td>0</td>\n",
       "      <td>0</td>\n",
       "      <td>0</td>\n",
       "      <td>0</td>\n",
       "      <td>0</td>\n",
       "      <td>0</td>\n",
       "    </tr>\n",
       "    <tr>\n",
       "      <th>0.25</th>\n",
       "      <td>0</td>\n",
       "      <td>0</td>\n",
       "      <td>0</td>\n",
       "      <td>0</td>\n",
       "      <td>0</td>\n",
       "      <td>0</td>\n",
       "      <td>0</td>\n",
       "      <td>0</td>\n",
       "      <td>0</td>\n",
       "      <td>0</td>\n",
       "    </tr>\n",
       "    <tr>\n",
       "      <th>0.35</th>\n",
       "      <td>0</td>\n",
       "      <td>0</td>\n",
       "      <td>0</td>\n",
       "      <td>0</td>\n",
       "      <td>0</td>\n",
       "      <td>0</td>\n",
       "      <td>0</td>\n",
       "      <td>0</td>\n",
       "      <td>0</td>\n",
       "      <td>0</td>\n",
       "    </tr>\n",
       "    <tr>\n",
       "      <th>0.45</th>\n",
       "      <td>0</td>\n",
       "      <td>0</td>\n",
       "      <td>0</td>\n",
       "      <td>0</td>\n",
       "      <td>0</td>\n",
       "      <td>0</td>\n",
       "      <td>0</td>\n",
       "      <td>0</td>\n",
       "      <td>0</td>\n",
       "      <td>0</td>\n",
       "    </tr>\n",
       "    <tr>\n",
       "      <th>0.55</th>\n",
       "      <td>0</td>\n",
       "      <td>0</td>\n",
       "      <td>0</td>\n",
       "      <td>0</td>\n",
       "      <td>0</td>\n",
       "      <td>0</td>\n",
       "      <td>0</td>\n",
       "      <td>0</td>\n",
       "      <td>0</td>\n",
       "      <td>0</td>\n",
       "    </tr>\n",
       "    <tr>\n",
       "      <th>0.65</th>\n",
       "      <td>0</td>\n",
       "      <td>0</td>\n",
       "      <td>0</td>\n",
       "      <td>0</td>\n",
       "      <td>0</td>\n",
       "      <td>0</td>\n",
       "      <td>0</td>\n",
       "      <td>0</td>\n",
       "      <td>0</td>\n",
       "      <td>0</td>\n",
       "    </tr>\n",
       "    <tr>\n",
       "      <th>0.75</th>\n",
       "      <td>0</td>\n",
       "      <td>0</td>\n",
       "      <td>0</td>\n",
       "      <td>0</td>\n",
       "      <td>0</td>\n",
       "      <td>0</td>\n",
       "      <td>0</td>\n",
       "      <td>0</td>\n",
       "      <td>0</td>\n",
       "      <td>0</td>\n",
       "    </tr>\n",
       "    <tr>\n",
       "      <th>0.85</th>\n",
       "      <td>0</td>\n",
       "      <td>0</td>\n",
       "      <td>0</td>\n",
       "      <td>0</td>\n",
       "      <td>0</td>\n",
       "      <td>0</td>\n",
       "      <td>0</td>\n",
       "      <td>0</td>\n",
       "      <td>0</td>\n",
       "      <td>0</td>\n",
       "    </tr>\n",
       "    <tr>\n",
       "      <th>0.95</th>\n",
       "      <td>0</td>\n",
       "      <td>0</td>\n",
       "      <td>0</td>\n",
       "      <td>0</td>\n",
       "      <td>0</td>\n",
       "      <td>0</td>\n",
       "      <td>0</td>\n",
       "      <td>0</td>\n",
       "      <td>0</td>\n",
       "      <td>0</td>\n",
       "    </tr>\n",
       "  </tbody>\n",
       "</table>\n",
       "</div>"
      ],
      "text/plain": [
       "      0.05  0.15  0.25  0.35  0.45  0.55  0.65  0.75  0.85  0.95\n",
       "0.05    46    19     8     3     0     0     0     0     1     0\n",
       "0.15    12     1     2     1     0     0     0     0     0     0\n",
       "0.25     0     0     0     0     0     0     0     0     0     0\n",
       "0.35     0     0     0     0     0     0     0     0     0     0\n",
       "0.45     0     0     0     0     0     0     0     0     0     0\n",
       "0.55     0     0     0     0     0     0     0     0     0     0\n",
       "0.65     0     0     0     0     0     0     0     0     0     0\n",
       "0.75     0     0     0     0     0     0     0     0     0     0\n",
       "0.85     0     0     0     0     0     0     0     0     0     0\n",
       "0.95     0     0     0     0     0     0     0     0     0     0"
      ]
     },
     "execution_count": 260,
     "metadata": {},
     "output_type": "execute_result"
    }
   ],
   "source": [
    "seg_ths = det_ths = np.around(np.linspace(0.05, 0.95, 10), decimals=3)\n",
    "\n",
    "results_ = []\n",
    "row = 0\n",
    "for i in seg_ths:\n",
    "    results_.append([])\n",
    "    for j in det_ths:\n",
    "        results_[row].append(apcs('../dataset/25_20160407_front/normal/uncrowd/depth/2016_04_07_16_39_44FrontDepth.avi', i, j, \n",
    "                             seg_tech='MABM', dirc='unboarding'))\n",
    "    row+=1\n",
    "\n",
    "pd.DataFrame(results_, index=seg_ths, columns=det_ths)"
   ]
  },
  {
   "cell_type": "code",
   "execution_count": 33,
   "metadata": {},
   "outputs": [],
   "source": [
    "def apcs_otsu(video_path, det_threshold, K=10, past=5, seg_tech='MABM', dirc='boarding'):\n",
    "    v = pims.Video(video_path)\n",
    "    v_array = np.array(v)\n",
    "    \n",
    "    I = to_gray(v_array)\n",
    "    \n",
    "    if (seg_tech == 'BMIT'):\n",
    "        F_BMIT = fgmask_BMIT_otsu(I)\n",
    "        A_test = active_strips_changes(F_BMIT, det_threshold, I.shape[1], I.shape[2], K)\n",
    "    elif(seg_tech == 'LTAMBM'):\n",
    "        F_LTAMBM = fgmask_LTABM_otsu(I)\n",
    "        A_test = active_strips_changes(F_LTAMBM, det_threshold, I.shape[1], I.shape[2], K)\n",
    "    elif(seg_tech == 'MABM'):\n",
    "        F_MABM = fgmodel_MABM_otsu(I, past=past)\n",
    "        A_test = active_strips_changes(F_MABM, det_threshold, I.shape[1], I.shape[2], K)\n",
    "    else:\n",
    "        pass\n",
    "    \n",
    "    return people_counter(A_test)[dirc]"
   ]
  },
  {
   "cell_type": "code",
   "execution_count": 34,
   "metadata": {},
   "outputs": [
    {
     "name": "stdout",
     "output_type": "stream",
     "text": [
      "Subindo:  1\n",
      "Descendo:  0\n"
     ]
    }
   ],
   "source": [
    "print('Subindo: ', apcs_otsu('../dataset/25_20160407_front/normal/crowd/2016_04_07_06_49_39FrontColor.avi', 0.4, K=40, dirc='boarding'))\n",
    "print('Descendo: ', apcs_otsu('../dataset/25_20160407_front/normal/crowd/2016_04_07_06_49_39FrontColor.avi', 0.4, K=40, dirc='unboarding'))"
   ]
  },
  {
   "cell_type": "code",
   "execution_count": 36,
   "metadata": {},
   "outputs": [
    {
     "data": {
      "text/html": [
       "<div>\n",
       "<style scoped>\n",
       "    .dataframe tbody tr th:only-of-type {\n",
       "        vertical-align: middle;\n",
       "    }\n",
       "\n",
       "    .dataframe tbody tr th {\n",
       "        vertical-align: top;\n",
       "    }\n",
       "\n",
       "    .dataframe thead th {\n",
       "        text-align: right;\n",
       "    }\n",
       "</style>\n",
       "<table border=\"1\" class=\"dataframe\">\n",
       "  <thead>\n",
       "    <tr style=\"text-align: right;\">\n",
       "      <th></th>\n",
       "      <th>5</th>\n",
       "      <th>10</th>\n",
       "      <th>20</th>\n",
       "      <th>40</th>\n",
       "    </tr>\n",
       "  </thead>\n",
       "  <tbody>\n",
       "    <tr>\n",
       "      <th>0.05</th>\n",
       "      <td>17</td>\n",
       "      <td>170</td>\n",
       "      <td>485</td>\n",
       "      <td>916</td>\n",
       "    </tr>\n",
       "    <tr>\n",
       "      <th>0.15</th>\n",
       "      <td>1</td>\n",
       "      <td>10</td>\n",
       "      <td>22</td>\n",
       "      <td>157</td>\n",
       "    </tr>\n",
       "    <tr>\n",
       "      <th>0.25</th>\n",
       "      <td>0</td>\n",
       "      <td>1</td>\n",
       "      <td>6</td>\n",
       "      <td>12</td>\n",
       "    </tr>\n",
       "    <tr>\n",
       "      <th>0.35</th>\n",
       "      <td>0</td>\n",
       "      <td>0</td>\n",
       "      <td>2</td>\n",
       "      <td>2</td>\n",
       "    </tr>\n",
       "    <tr>\n",
       "      <th>0.45</th>\n",
       "      <td>0</td>\n",
       "      <td>0</td>\n",
       "      <td>0</td>\n",
       "      <td>1</td>\n",
       "    </tr>\n",
       "    <tr>\n",
       "      <th>0.55</th>\n",
       "      <td>0</td>\n",
       "      <td>0</td>\n",
       "      <td>0</td>\n",
       "      <td>0</td>\n",
       "    </tr>\n",
       "    <tr>\n",
       "      <th>0.65</th>\n",
       "      <td>0</td>\n",
       "      <td>0</td>\n",
       "      <td>0</td>\n",
       "      <td>0</td>\n",
       "    </tr>\n",
       "    <tr>\n",
       "      <th>0.75</th>\n",
       "      <td>0</td>\n",
       "      <td>0</td>\n",
       "      <td>0</td>\n",
       "      <td>0</td>\n",
       "    </tr>\n",
       "    <tr>\n",
       "      <th>0.85</th>\n",
       "      <td>0</td>\n",
       "      <td>0</td>\n",
       "      <td>0</td>\n",
       "      <td>0</td>\n",
       "    </tr>\n",
       "    <tr>\n",
       "      <th>0.95</th>\n",
       "      <td>0</td>\n",
       "      <td>0</td>\n",
       "      <td>0</td>\n",
       "      <td>0</td>\n",
       "    </tr>\n",
       "  </tbody>\n",
       "</table>\n",
       "</div>"
      ],
      "text/plain": [
       "      5    10   20   40\n",
       "0.05  17  170  485  916\n",
       "0.15   1   10   22  157\n",
       "0.25   0    1    6   12\n",
       "0.35   0    0    2    2\n",
       "0.45   0    0    0    1\n",
       "0.55   0    0    0    0\n",
       "0.65   0    0    0    0\n",
       "0.75   0    0    0    0\n",
       "0.85   0    0    0    0\n",
       "0.95   0    0    0    0"
      ]
     },
     "execution_count": 36,
     "metadata": {},
     "output_type": "execute_result"
    }
   ],
   "source": [
    "K_ar = np.array([5,10,20,40])\n",
    "thresholds = np.linspace(0.05,0.95,10)\n",
    "res = []\n",
    "for ths in thresholds:\n",
    "    for K_a in K_ar:\n",
    "        res.append(apcs_otsu('../dataset/25_20160407_front/normal/uncrowd/depth/2016_04_07_07_10_19FrontDepth.avi', ths, K=K_a, dirc='boarding'))\n",
    "\n",
    "res_np = np.array(res).reshape((len(thresholds),len(K_ar)))\n",
    "pd.DataFrame(res_np, index=thresholds, columns=K_ar)"
   ]
  },
  {
   "cell_type": "code",
   "execution_count": 39,
   "metadata": {},
   "outputs": [
    {
     "data": {
      "text/html": [
       "<div>\n",
       "<style scoped>\n",
       "    .dataframe tbody tr th:only-of-type {\n",
       "        vertical-align: middle;\n",
       "    }\n",
       "\n",
       "    .dataframe tbody tr th {\n",
       "        vertical-align: top;\n",
       "    }\n",
       "\n",
       "    .dataframe thead th {\n",
       "        text-align: right;\n",
       "    }\n",
       "</style>\n",
       "<table border=\"1\" class=\"dataframe\">\n",
       "  <thead>\n",
       "    <tr style=\"text-align: right;\">\n",
       "      <th></th>\n",
       "      <th>20</th>\n",
       "    </tr>\n",
       "  </thead>\n",
       "  <tbody>\n",
       "    <tr>\n",
       "      <th>0.150000</th>\n",
       "      <td>22</td>\n",
       "    </tr>\n",
       "    <tr>\n",
       "      <th>0.161111</th>\n",
       "      <td>16</td>\n",
       "    </tr>\n",
       "    <tr>\n",
       "      <th>0.172222</th>\n",
       "      <td>11</td>\n",
       "    </tr>\n",
       "    <tr>\n",
       "      <th>0.183333</th>\n",
       "      <td>11</td>\n",
       "    </tr>\n",
       "    <tr>\n",
       "      <th>0.194444</th>\n",
       "      <td>11</td>\n",
       "    </tr>\n",
       "    <tr>\n",
       "      <th>0.205556</th>\n",
       "      <td>8</td>\n",
       "    </tr>\n",
       "    <tr>\n",
       "      <th>0.216667</th>\n",
       "      <td>7</td>\n",
       "    </tr>\n",
       "    <tr>\n",
       "      <th>0.227778</th>\n",
       "      <td>6</td>\n",
       "    </tr>\n",
       "    <tr>\n",
       "      <th>0.238889</th>\n",
       "      <td>7</td>\n",
       "    </tr>\n",
       "    <tr>\n",
       "      <th>0.250000</th>\n",
       "      <td>6</td>\n",
       "    </tr>\n",
       "  </tbody>\n",
       "</table>\n",
       "</div>"
      ],
      "text/plain": [
       "          20\n",
       "0.150000  22\n",
       "0.161111  16\n",
       "0.172222  11\n",
       "0.183333  11\n",
       "0.194444  11\n",
       "0.205556   8\n",
       "0.216667   7\n",
       "0.227778   6\n",
       "0.238889   7\n",
       "0.250000   6"
      ]
     },
     "execution_count": 39,
     "metadata": {},
     "output_type": "execute_result"
    }
   ],
   "source": [
    "K_ar = np.array([5,10,20,40])\n",
    "thresholds = np.linspace(0.15,0.25,10)\n",
    "res = []\n",
    "for ths in thresholds:\n",
    "    res.append(apcs_otsu('../dataset/25_20160407_front/normal/uncrowd/depth/2016_04_07_07_10_19FrontDepth.avi', ths, K=20, dirc='boarding'))\n",
    "\n",
    "pd.DataFrame(res, index=thresholds, columns=[20])"
   ]
  },
  {
   "cell_type": "code",
   "execution_count": 40,
   "metadata": {},
   "outputs": [
    {
     "data": {
      "text/html": [
       "<div>\n",
       "<style scoped>\n",
       "    .dataframe tbody tr th:only-of-type {\n",
       "        vertical-align: middle;\n",
       "    }\n",
       "\n",
       "    .dataframe tbody tr th {\n",
       "        vertical-align: top;\n",
       "    }\n",
       "\n",
       "    .dataframe thead th {\n",
       "        text-align: right;\n",
       "    }\n",
       "</style>\n",
       "<table border=\"1\" class=\"dataframe\">\n",
       "  <thead>\n",
       "    <tr style=\"text-align: right;\">\n",
       "      <th></th>\n",
       "      <th>5</th>\n",
       "      <th>10</th>\n",
       "      <th>20</th>\n",
       "      <th>40</th>\n",
       "    </tr>\n",
       "  </thead>\n",
       "  <tbody>\n",
       "    <tr>\n",
       "      <th>2016_04_07_15_00_45FrontDepth.avi</th>\n",
       "      <td>3</td>\n",
       "      <td>3</td>\n",
       "      <td>7</td>\n",
       "      <td>9</td>\n",
       "    </tr>\n",
       "    <tr>\n",
       "      <th>2016_04_07_07_30_45FrontDepth.avi</th>\n",
       "      <td>1</td>\n",
       "      <td>2</td>\n",
       "      <td>12</td>\n",
       "      <td>55</td>\n",
       "    </tr>\n",
       "    <tr>\n",
       "      <th>2016_04_07_08_04_59FrontDepth.avi</th>\n",
       "      <td>1</td>\n",
       "      <td>2</td>\n",
       "      <td>8</td>\n",
       "      <td>17</td>\n",
       "    </tr>\n",
       "    <tr>\n",
       "      <th>2016_04_07_06_51_08FrontDepth.avi</th>\n",
       "      <td>0</td>\n",
       "      <td>0</td>\n",
       "      <td>2</td>\n",
       "      <td>1</td>\n",
       "    </tr>\n",
       "    <tr>\n",
       "      <th>2016_04_07_18_09_13FrontDepth.avi</th>\n",
       "      <td>0</td>\n",
       "      <td>0</td>\n",
       "      <td>1</td>\n",
       "      <td>5</td>\n",
       "    </tr>\n",
       "    <tr>\n",
       "      <th>2016_04_07_18_08_20FrontDepth.avi</th>\n",
       "      <td>0</td>\n",
       "      <td>0</td>\n",
       "      <td>6</td>\n",
       "      <td>17</td>\n",
       "    </tr>\n",
       "    <tr>\n",
       "      <th>2016_04_07_16_42_54FrontDepth.avi</th>\n",
       "      <td>2</td>\n",
       "      <td>4</td>\n",
       "      <td>9</td>\n",
       "      <td>19</td>\n",
       "    </tr>\n",
       "    <tr>\n",
       "      <th>2016_04_07_07_10_19FrontDepth.avi</th>\n",
       "      <td>0</td>\n",
       "      <td>3</td>\n",
       "      <td>8</td>\n",
       "      <td>27</td>\n",
       "    </tr>\n",
       "    <tr>\n",
       "      <th>2016_04_07_18_49_04FrontDepth.avi</th>\n",
       "      <td>2</td>\n",
       "      <td>2</td>\n",
       "      <td>4</td>\n",
       "      <td>20</td>\n",
       "    </tr>\n",
       "  </tbody>\n",
       "</table>\n",
       "</div>"
      ],
      "text/plain": [
       "                                   5   10  20  40\n",
       "2016_04_07_15_00_45FrontDepth.avi   3   3   7   9\n",
       "2016_04_07_07_30_45FrontDepth.avi   1   2  12  55\n",
       "2016_04_07_08_04_59FrontDepth.avi   1   2   8  17\n",
       "2016_04_07_06_51_08FrontDepth.avi   0   0   2   1\n",
       "2016_04_07_18_09_13FrontDepth.avi   0   0   1   5\n",
       "2016_04_07_18_08_20FrontDepth.avi   0   0   6  17\n",
       "2016_04_07_16_42_54FrontDepth.avi   2   4   9  19\n",
       "2016_04_07_07_10_19FrontDepth.avi   0   3   8  27\n",
       "2016_04_07_18_49_04FrontDepth.avi   2   2   4  20"
      ]
     },
     "execution_count": 40,
     "metadata": {},
     "output_type": "execute_result"
    }
   ],
   "source": [
    "import os\n",
    "path = '../dataset/25_20160407_front/normal/uncrowd/depth/'\n",
    "files = os.listdir(path)\n",
    "K_array = np.array([5,10,20,40])\n",
    "p = []\n",
    "\n",
    "for file in files[0:9]:\n",
    "    for K_ in K_array:\n",
    "        p.append(apcs_otsu(path + file, 0.21, K=K_, dirc='boarding'))\n",
    "\n",
    "p_ = np.array(p).reshape(9, 4)\n",
    "pd.DataFrame(p_, index=files[0:9], columns=K_array)"
   ]
  },
  {
   "cell_type": "code",
   "execution_count": 43,
   "metadata": {},
   "outputs": [
    {
     "data": {
      "text/html": [
       "<div>\n",
       "<style scoped>\n",
       "    .dataframe tbody tr th:only-of-type {\n",
       "        vertical-align: middle;\n",
       "    }\n",
       "\n",
       "    .dataframe tbody tr th {\n",
       "        vertical-align: top;\n",
       "    }\n",
       "\n",
       "    .dataframe thead th {\n",
       "        text-align: right;\n",
       "    }\n",
       "</style>\n",
       "<table border=\"1\" class=\"dataframe\">\n",
       "  <thead>\n",
       "    <tr style=\"text-align: right;\">\n",
       "      <th></th>\n",
       "      <th>5</th>\n",
       "      <th>10</th>\n",
       "      <th>20</th>\n",
       "      <th>40</th>\n",
       "    </tr>\n",
       "  </thead>\n",
       "  <tbody>\n",
       "    <tr>\n",
       "      <th>2016_04_07_15_00_45FrontColor.avi</th>\n",
       "      <td>0</td>\n",
       "      <td>1</td>\n",
       "      <td>2</td>\n",
       "      <td>1</td>\n",
       "    </tr>\n",
       "    <tr>\n",
       "      <th>2016_04_07_07_30_45FrontColor.avi</th>\n",
       "      <td>0</td>\n",
       "      <td>2</td>\n",
       "      <td>4</td>\n",
       "      <td>9</td>\n",
       "    </tr>\n",
       "    <tr>\n",
       "      <th>2016_04_07_08_04_59FrontColor.avi</th>\n",
       "      <td>0</td>\n",
       "      <td>0</td>\n",
       "      <td>2</td>\n",
       "      <td>0</td>\n",
       "    </tr>\n",
       "    <tr>\n",
       "      <th>2016_04_07_06_51_08FrontColor.avi</th>\n",
       "      <td>0</td>\n",
       "      <td>0</td>\n",
       "      <td>1</td>\n",
       "      <td>1</td>\n",
       "    </tr>\n",
       "    <tr>\n",
       "      <th>2016_04_07_18_09_13FrontColor.avi</th>\n",
       "      <td>1</td>\n",
       "      <td>1</td>\n",
       "      <td>2</td>\n",
       "      <td>2</td>\n",
       "    </tr>\n",
       "    <tr>\n",
       "      <th>2016_04_07_18_08_20FrontColor.avi</th>\n",
       "      <td>0</td>\n",
       "      <td>1</td>\n",
       "      <td>0</td>\n",
       "      <td>0</td>\n",
       "    </tr>\n",
       "    <tr>\n",
       "      <th>2016_04_07_16_42_54FrontColor.avi</th>\n",
       "      <td>2</td>\n",
       "      <td>4</td>\n",
       "      <td>3</td>\n",
       "      <td>6</td>\n",
       "    </tr>\n",
       "    <tr>\n",
       "      <th>2016_04_07_07_10_19FrontColor.avi</th>\n",
       "      <td>0</td>\n",
       "      <td>4</td>\n",
       "      <td>9</td>\n",
       "      <td>22</td>\n",
       "    </tr>\n",
       "    <tr>\n",
       "      <th>2016_04_07_18_49_04FrontColor.avi</th>\n",
       "      <td>1</td>\n",
       "      <td>1</td>\n",
       "      <td>2</td>\n",
       "      <td>1</td>\n",
       "    </tr>\n",
       "  </tbody>\n",
       "</table>\n",
       "</div>"
      ],
      "text/plain": [
       "                                   5   10  20  40\n",
       "2016_04_07_15_00_45FrontColor.avi   0   1   2   1\n",
       "2016_04_07_07_30_45FrontColor.avi   0   2   4   9\n",
       "2016_04_07_08_04_59FrontColor.avi   0   0   2   0\n",
       "2016_04_07_06_51_08FrontColor.avi   0   0   1   1\n",
       "2016_04_07_18_09_13FrontColor.avi   1   1   2   2\n",
       "2016_04_07_18_08_20FrontColor.avi   0   1   0   0\n",
       "2016_04_07_16_42_54FrontColor.avi   2   4   3   6\n",
       "2016_04_07_07_10_19FrontColor.avi   0   4   9  22\n",
       "2016_04_07_18_49_04FrontColor.avi   1   1   2   1"
      ]
     },
     "execution_count": 43,
     "metadata": {},
     "output_type": "execute_result"
    }
   ],
   "source": [
    "path_clr = '../dataset/25_20160407_front/normal/uncrowd/color/'\n",
    "files_ = [f.replace('Depth', 'Color') for f in files]\n",
    "pc = []\n",
    "\n",
    "for file in files_[0:9]:\n",
    "    for K_ in K_array:\n",
    "        pc.append(apcs_otsu(path_clr + file, 0.21, K=K_, dirc='boarding'))\n",
    "\n",
    "pc_ = np.array(pc).reshape(9, 4)\n",
    "pd.DataFrame(pc_, index=files_[0:9], columns=K_array)"
   ]
  },
  {
   "cell_type": "markdown",
   "metadata": {},
   "source": [
    "## Técnica PDS"
   ]
  },
  {
   "cell_type": "code",
   "execution_count": 58,
   "metadata": {},
   "outputs": [],
   "source": [
    "v_depth = pims.Video('../dataset/25_20160407_front/normal/crowd/2016_04_07_08_48_35FrontDepth.avi')\n",
    "v_color = pims.Video('../dataset/25_20160407_front/normal/crowd/2016_04_07_08_48_35FrontColor.avi')\n",
    "\n",
    "v2_depth = pims.Video('../dataset/25_20160407_front/normal/crowd/2016_04_07_07_15_44FrontDepth.avi')\n",
    "v2_color = pims.Video('../dataset/25_20160407_front/normal/crowd/2016_04_07_07_15_44FrontColor.avi')\n",
    "\n",
    "v3_depth = pims.Video('../dataset/25_20160407_front/normal/crowd/2016_04_07_19_09_56FrontDepth.avi')\n",
    "v3_color = pims.Video('../dataset/25_20160407_front/normal/crowd/2016_04_07_19_09_56FrontColor.avi')\n",
    "\n",
    "v4_depth = pims.Video('../dataset/25_20160407_front/normal/crowd/2016_04_07_18_58_34FrontDepth.avi')\n",
    "v4_color = pims.Video('../dataset/25_20160407_front/normal/crowd/2016_04_07_18_58_34FrontColor.avi')\n",
    "\n",
    "v5_depth = pims.Video('../dataset/25_20160407_front/normal/crowd/2016_04_07_14_37_58FrontDepth.avi')\n",
    "v5_color = pims.Video('../dataset/25_20160407_front/normal/crowd/2016_04_07_14_37_58FrontColor.avi')"
   ]
  },
  {
   "cell_type": "code",
   "execution_count": 59,
   "metadata": {},
   "outputs": [],
   "source": [
    "def integra(x):\n",
    "    s=np.sum(x,axis=1)\n",
    "    s=np.sum(s,axis=1)\n",
    "    return s"
   ]
  },
  {
   "cell_type": "code",
   "execution_count": 60,
   "metadata": {},
   "outputs": [],
   "source": [
    "def conta_integral(x):\n",
    "    x_cropped=x[:,100:240,0:125]\n",
    "    integral=integra(x_cropped)\n",
    "    integral=integral/np.max(integral)\n",
    "    plt.figure()\n",
    "    plt.plot(integral)\n",
    "    limiar=np.min(integral)+((np.max(integral)-np.min(integral))/2)\n",
    "    plt.plot(limiar*np.ones(integral.shape),'-r')\n",
    "    info_binaria=integral<limiar\n",
    "    plt.figure()\n",
    "    plt.plot(info_binaria)\n",
    "    picos=np.bitwise_and(info_binaria,np.invert(np.roll(info_binaria,1)))\n",
    "    pessoas=np.count_nonzero(picos)\n",
    "    frames_ind=np.nonzero(picos)\n",
    "    return pessoas,frames_ind"
   ]
  },
  {
   "cell_type": "code",
   "execution_count": 61,
   "metadata": {},
   "outputs": [],
   "source": [
    "def conta_integral_explore(x,valor_real,num):\n",
    "    x_cropped=x[:,100:240,0:125]\n",
    "    integral=integra(x_cropped)\n",
    "    integral=integral/np.max(integral)\n",
    "    ref=np.min(integral)+((np.max(integral)-np.min(integral))/2)\n",
    "    limiar_list=np.arange(ref-0.15,ref+0.15,0.01)\n",
    "    pessoas=np.zeros(len(limiar_list))\n",
    "    for i,limiar in enumerate(limiar_list):\n",
    "        info_binaria=integral<limiar\n",
    "        picos=np.bitwise_and(info_binaria,np.invert(np.roll(info_binaria,1)))\n",
    "        pessoas[i]=np.count_nonzero(picos)\n",
    "    tx_erro=np.abs(np.subtract(pessoas,valor_real))/valor_real\n",
    "    plt.figure(figsize=(8,6))\n",
    "    plt.plot(limiar_list,tx_erro,'.-')\n",
    "    plt.plot(limiar_list[15],tx_erro[15],'Dr')\n",
    "    plt.title(\"Taxa de erro do vídeo %i\" %num)\n",
    "    \n",
    "    return tx_erro"
   ]
  },
  {
   "cell_type": "code",
   "execution_count": 62,
   "metadata": {},
   "outputs": [],
   "source": [
    "x1 = to_gray(np.array(v_depth))\n",
    "x2 = to_gray(np.array(v2_depth))\n",
    "x3 = to_gray(np.array(v3_depth))\n",
    "x4 = to_gray(np.array(v4_depth))\n",
    "x5 = to_gray(np.array(v5_depth))\n",
    "\n",
    "y1 = to_gray(np.array(v_color))\n",
    "y2 = to_gray(np.array(v2_color))\n",
    "y3 = to_gray(np.array(v3_color))\n",
    "y4 = to_gray(np.array(v4_color))\n",
    "y5 = to_gray(np.array(v5_color))\n",
    "\n",
    "X=[x1,x2,x3,x4,x5]\n",
    "Y=[y1,y2,y3,y4,y5]\n",
    "\n",
    "valor_real=[7,7,10,13,20]"
   ]
  },
  {
   "cell_type": "code",
   "execution_count": 63,
   "metadata": {},
   "outputs": [
    {
     "name": "stdout",
     "output_type": "stream",
     "text": [
      "O numero de pessoas contado foi:  10\n",
      "CPU times: user 54 ms, sys: 0 ns, total: 54 ms\n",
      "Wall time: 104 ms\n"
     ]
    },
    {
     "data": {
      "image/png": "[encoded data removed]",
      "text/plain": [
       "<Figure size 432x288 with 1 Axes>"
      ]
     },
     "metadata": {},
     "output_type": "display_data"
    },
    {
     "data": {
      "image/png": "[encoded data removed]",
      "text/plain": [
       "<Figure size 432x288 with 1 Axes>"
      ]
     },
     "metadata": {},
     "output_type": "display_data"
    }
   ],
   "source": [
    "%%time\n",
    "[pessoas,frames]=conta_integral(X[2])\n",
    "print(\"O numero de pessoas contado foi: \",pessoas)"
   ]
  },
  {
   "cell_type": "code",
   "execution_count": 64,
   "metadata": {},
   "outputs": [
    {
     "data": {
      "image/png": "[encoded data removed]",
      "text/plain": [
       "<Figure size 576x432 with 1 Axes>"
      ]
     },
     "metadata": {},
     "output_type": "display_data"
    },
    {
     "data": {
      "image/png": "[encoded data removed]",
      "text/plain": [
       "<Figure size 576x432 with 1 Axes>"
      ]
     },
     "metadata": {},
     "output_type": "display_data"
    },
    {
     "data": {
      "image/png": "[encoded data removed]",
      "text/plain": [
       "<Figure size 576x432 with 1 Axes>"
      ]
     },
     "metadata": {},
     "output_type": "display_data"
    },
    {
     "data": {
      "image/png": "[encoded data removed]",
      "text/plain": [
       "<Figure size 576x432 with 1 Axes>"
      ]
     },
     "metadata": {},
     "output_type": "display_data"
    },
    {
     "data": {
      "image/png": "[encoded data removed]",
      "text/plain": [
       "<Figure size 576x432 with 1 Axes>"
      ]
     },
     "metadata": {},
     "output_type": "display_data"
    }
   ],
   "source": [
    "tx_erro=np.zeros((5,31))\n",
    "for i,x in enumerate(X):\n",
    "    tx_erro[i,:]=conta_integral_explore(x,valor_real[i],i+1)"
   ]
  },
  {
   "cell_type": "code",
   "execution_count": 65,
   "metadata": {},
   "outputs": [
    {
     "data": {
      "text/plain": [
       "[<matplotlib.lines.Line2D at 0x7fc5e008df28>]"
      ]
     },
     "execution_count": 65,
     "metadata": {},
     "output_type": "execute_result"
    },
    {
     "data": {
      "image/png": "[encoded data removed]",
      "text/plain": [
       "<Figure size 576x432 with 1 Axes>"
      ]
     },
     "metadata": {},
     "output_type": "display_data"
    }
   ],
   "source": [
    "tx_media=np.average(tx_erro,axis=0)\n",
    "var_limiar=np.arange(-0.15,0.16,0.01)\n",
    "plt.figure(figsize=(8,6))\n",
    "plt.title('Taxa de erro x variação do limiar')\n",
    "plt.plot(var_limiar,tx_media,'.-')\n",
    "plt.plot(var_limiar[15],tx_media[15],'Dr')"
   ]
  }
 ],
 "metadata": {
  "kernelspec": {
   "display_name": "Python 3",
   "language": "python",
   "name": "python3"
  },
  "language_info": {
   "codemirror_mode": {
    "name": "ipython",
    "version": 3
   },
   "file_extension": ".py",
   "mimetype": "text/x-python",
   "name": "python",
   "nbconvert_exporter": "python",
   "pygments_lexer": "ipython3",
   "version": "3.6.5"
  }
 },
 "nbformat": 4,
 "nbformat_minor": 2
}
