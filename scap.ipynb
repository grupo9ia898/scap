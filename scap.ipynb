{
 "cells": [
  {
   "cell_type": "markdown",
   "metadata": {},
   "source": [
    "### Abrindo o vídeo e mostrando o vídeo"
   ]
  },
  {
   "cell_type": "code",
   "execution_count": 1,
   "metadata": {},
   "outputs": [],
   "source": [
    "import numpy as np\n",
    "import matplotlib\n",
    "import matplotlib.pyplot as plt\n",
    "%matplotlib inline\n",
    "#matplotlib.use('TkAgg')\n",
    "#removido para a plotagem dos gráficos\n",
    "import imageio\n",
    "from IPython import display\n",
    "from time import sleep\n",
    "#import matplotlib.pyplot as plt\n",
    "\n",
    "import pims\n",
    "from PIL import Image\n",
    "\n",
    "imageio.plugins.ffmpeg.download()\n",
    "\n",
    "v = pims.Video('../dataset/25_20160407_front/normal/crowd/2016_04_07_08_48_35FrontColor.avi')"
   ]
  },
  {
   "cell_type": "code",
   "execution_count": 2,
   "metadata": {},
   "outputs": [],
   "source": [
    "def play(video):\n",
    "    \n",
    "    fig = plt.figure()\n",
    "    ax = fig.gca()\n",
    "    fig.show()\n",
    "\n",
    "    for ii in range(len(video)):\n",
    "        im = video[ii]\n",
    "        plt.imshow(im, cmap='gray')\n",
    "        ax.set_title(ii)\n",
    "\n",
    "        fig.canvas.draw()\n",
    "        sleep(0.1)"
   ]
  },
  {
   "cell_type": "markdown",
   "metadata": {},
   "source": [
    "Algumas informações sobre o vídeo aberto:"
   ]
  },
  {
   "cell_type": "code",
   "execution_count": 3,
   "metadata": {
    "scrolled": false
   },
   "outputs": [
    {
     "name": "stdout",
     "output_type": "stream",
     "text": [
      "{'plugin': 'ffmpeg', 'nframes': 591, 'ffmpeg_version': 'N-86111-ga441aa90e8-static http://johnvansickle.com/ffmpeg/ built with gcc 5.4.1 (Debian 5.4.1-8) 20170304', 'fps': 25.0, 'source_size': (320, 240), 'size': (320, 240), 'duration': 23.64}\n",
      "\n",
      " (591, 240, 320, 3)\n"
     ]
    }
   ],
   "source": [
    "print(v.get_metadata())\n",
    "\n",
    "v_array = np.array(v)\n",
    "print('\\n', v_array.shape)"
   ]
  },
  {
   "cell_type": "markdown",
   "metadata": {},
   "source": [
    "Os campos da *tupla* anterior significam o seguinte:\n",
    "(Frames, Altura, Largura, Cores)"
   ]
  },
  {
   "cell_type": "markdown",
   "metadata": {},
   "source": [
    "### Convertendo o vídeo para escala de cinza"
   ]
  },
  {
   "cell_type": "code",
   "execution_count": 4,
   "metadata": {},
   "outputs": [],
   "source": [
    "def to_gray(video):\n",
    "    frames, width, hight, color = video.shape\n",
    "    video_gray = np.zeros((frames, width, hight), dtype='uint32')\n",
    "    \n",
    "    for ii in range(len(video)):\n",
    "        r, g, b = Image.fromarray(video[ii]).split()\n",
    "        \n",
    "        r = np.array(r, dtype='uint32')\n",
    "        g = np.array(g, dtype='uint32')\n",
    "        b = np.array(b, dtype='uint32')\n",
    "        \n",
    "        video_gray[ii] = (r + g + b) / 3\n",
    "        \n",
    "    return video_gray"
   ]
  },
  {
   "cell_type": "code",
   "execution_count": 5,
   "metadata": {},
   "outputs": [],
   "source": [
    "x = to_gray(v_array)\n",
    "#play(x[0:30])"
   ]
  },
  {
   "cell_type": "code",
   "execution_count": 6,
   "metadata": {},
   "outputs": [],
   "source": [
    "#x_cropped=x[:,100:240,0:125]\n",
    "#play(x_cropped[0:30])"
   ]
  },
  {
   "cell_type": "code",
   "execution_count": 7,
   "metadata": {},
   "outputs": [],
   "source": [
    "def integra(x):\n",
    "    s=np.sum(x,axis=1)\n",
    "    s=np.sum(s,axis=1)\n",
    "    return s"
   ]
  },
  {
   "cell_type": "code",
   "execution_count": 8,
   "metadata": {},
   "outputs": [],
   "source": [
    "def conta_integral(x):\n",
    "    x_cropped=x[:,100:240,0:125]\n",
    "    integral=integra(x_cropped)\n",
    "    integral=integral/np.max(integral)\n",
    "    limiar=np.min(integral)+((np.max(integral)-np.min(integral))/2)\n",
    "    info_binaria=integral<limiar\n",
    "    picos=np.bitwise_and(info_binaria,np.invert(np.roll(info_binaria,1)))\n",
    "    pessoas=np.count_nonzero(picos)\n",
    "    frames_ind=np.nonzero(picos)\n",
    "    return pessoas"
   ]
  },
  {
   "cell_type": "code",
   "execution_count": 9,
   "metadata": {},
   "outputs": [
    {
     "name": "stdout",
     "output_type": "stream",
     "text": [
      "5\n"
     ]
    }
   ],
   "source": [
    "contagem=conta_integral(x)\n",
    "print(contagem)"
   ]
  },
  {
   "cell_type": "code",
   "execution_count": null,
   "metadata": {},
   "outputs": [],
   "source": []
  }
 ],
 "metadata": {
  "kernelspec": {
   "display_name": "Python 3",
   "language": "python",
   "name": "python3"
  },
  "language_info": {
   "codemirror_mode": {
    "name": "ipython",
    "version": 3
   },
   "file_extension": ".py",
   "mimetype": "text/x-python",
   "name": "python",
   "nbconvert_exporter": "python",
   "pygments_lexer": "ipython3",
   "version": "3.6.5"
  }
 },
 "nbformat": 4,
 "nbformat_minor": 2
}
