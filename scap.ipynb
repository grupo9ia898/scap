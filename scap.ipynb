{
 "cells": [
  {
   "cell_type": "markdown",
   "metadata": {},
   "source": [
    "### Abrindo o vídeo e mostrando o vídeo"
   ]
  },
  {
   "cell_type": "code",
   "execution_count": 1,
   "metadata": {},
   "outputs": [],
   "source": [
    "import numpy as np\n",
    "import matplotlib\n",
    "matplotlib.use('TkAgg')\n",
    "import matplotlib.pyplot as plt\n",
    "from IPython import display\n",
    "from time import sleep\n",
    "\n",
    "import pims\n",
    "from PIL import Image\n",
    "\n",
    "v = pims.Video('../dataset/25_20160407_front/normal/crowd/2016_04_07_06_49_39FrontColor.avi')"
   ]
  },
  {
   "cell_type": "code",
   "execution_count": 2,
   "metadata": {},
   "outputs": [],
   "source": [
    "def play(video):\n",
    "    fig = plt.figure()\n",
    "    ax = fig.gca()\n",
    "    fig.show()\n",
    "\n",
    "    for ii in range(len(video)):\n",
    "        im = video[ii]\n",
    "        plt.imshow(im, cmap='gray')\n",
    "        ax.set_title(ii)\n",
    "\n",
    "        fig.canvas.draw()\n",
    "        sleep(0.1)"
   ]
  },
  {
   "cell_type": "code",
   "execution_count": 23,
   "metadata": {},
   "outputs": [],
   "source": [
    "def play_cmp(video1, video2):\n",
    "    fig = plt.figure()\n",
    "    fig1 = fig.add_subplot(121)\n",
    "    fig2 = fig.add_subplot(122)\n",
    "    ax = fig.gca()\n",
    "    fig.show()\n",
    "\n",
    "    for ii in range(len(video1)):\n",
    "        im1 = video1[ii]\n",
    "        im2 = video2[ii]\n",
    "        fig1.imshow(im1, cmap='gray')\n",
    "        fig2.imshow(im2, cmap='gray')\n",
    "        ax.set_title(ii)\n",
    "\n",
    "        fig.canvas.draw()\n",
    "        sleep(0.1)"
   ]
  },
  {
   "cell_type": "markdown",
   "metadata": {},
   "source": [
    "Algumas informações sobre o vídeo aberto:"
   ]
  },
  {
   "cell_type": "code",
   "execution_count": 3,
   "metadata": {
    "scrolled": false
   },
   "outputs": [
    {
     "name": "stdout",
     "output_type": "stream",
     "text": [
      "{'plugin': 'ffmpeg', 'nframes': 322, 'ffmpeg_version': 'N-86111-ga441aa90e8-static http://johnvansickle.com/ffmpeg/ built with gcc 5.4.1 (Debian 5.4.1-8) 20170304', 'fps': 25.0, 'source_size': (320, 240), 'size': (320, 240), 'duration': 12.88}\n",
      "\n",
      " (322, 240, 320, 3)\n"
     ]
    }
   ],
   "source": [
    "print(v.get_metadata())\n",
    "\n",
    "v_array = np.array(v)\n",
    "print('\\n', v_array.shape)"
   ]
  },
  {
   "cell_type": "markdown",
   "metadata": {},
   "source": [
    "Os campos da *tupla* anterior significam o seguinte:\n",
    "(Frames, Altura, Largura, Cores)"
   ]
  },
  {
   "cell_type": "markdown",
   "metadata": {},
   "source": [
    "### Convertendo o vídeo para escala de cinza"
   ]
  },
  {
   "cell_type": "code",
   "execution_count": 4,
   "metadata": {},
   "outputs": [],
   "source": [
    "def to_gray(video):\n",
    "    frames, width, hight, color = video.shape\n",
    "    video_gray = np.zeros((frames, width, hight), dtype='uint32')\n",
    "    \n",
    "    for ii in range(len(video)):\n",
    "        r, g, b = Image.fromarray(video[ii]).split()\n",
    "        \n",
    "        r = np.array(r, dtype='uint32')\n",
    "        g = np.array(g, dtype='uint32')\n",
    "        b = np.array(b, dtype='uint32')\n",
    "        \n",
    "        video_gray[ii] = (r + g + b) / 3\n",
    "        \n",
    "    return video_gray"
   ]
  },
  {
   "cell_type": "code",
   "execution_count": 5,
   "metadata": {},
   "outputs": [
    {
     "data": {
      "text/plain": [
       "(322, 240, 320)"
      ]
     },
     "execution_count": 5,
     "metadata": {},
     "output_type": "execute_result"
    }
   ],
   "source": [
    "I = to_gray(v_array)\n",
    "I.shape\n",
    "# play(x[0:30])"
   ]
  },
  {
   "cell_type": "markdown",
   "metadata": {},
   "source": [
    "### Background Modeling Independent of Time"
   ]
  },
  {
   "cell_type": "code",
   "execution_count": 18,
   "metadata": {},
   "outputs": [],
   "source": [
    "tao = 2147483647"
   ]
  },
  {
   "cell_type": "code",
   "execution_count": 25,
   "metadata": {},
   "outputs": [],
   "source": [
    "B_BMIT = I[0]\n",
    "D_BMIT = np.abs(I - B_BMIT)\n",
    "\n",
    "# F_BMIT = D_BMIT\n",
    "# F_BMIT[F_BMIT >= tao] = True\n",
    "# F_BMIT[F_BMIT < tao] = False\n",
    "\n",
    "# play_cmp(I, D_BMIT)"
   ]
  },
  {
   "cell_type": "markdown",
   "metadata": {},
   "source": [
    "###  The Long Term Average Background Modeling"
   ]
  },
  {
   "cell_type": "code",
   "execution_count": 7,
   "metadata": {},
   "outputs": [],
   "source": [
    "B_LTAMBM = np.zeros(I.shape)\n",
    "for k in range(1, len(I)):\n",
    "    B_LTAMBM[k] = (1-1/k)*B_LTAMBM[k-1] + (1/k) *I[k]\n",
    "\n",
    "D_LTAMBM = np.abs(I - B_LTAMBM)"
   ]
  },
  {
   "cell_type": "markdown",
   "metadata": {},
   "source": [
    "### Moving Average Backgound Modeling"
   ]
  },
  {
   "cell_type": "code",
   "execution_count": 12,
   "metadata": {},
   "outputs": [],
   "source": [
    "W = 5\n",
    "B_MABM = np.zeros(I.shape)\n",
    "for k in range((W-1), len(I)-1):\n",
    "    B_MABM[k] = (1/W)*np.sum(I[(k-(W-1)):(k+1),:,:], axis=0)\n",
    "\n",
    "D_MABM = np.abs(I - B_MABM)\n"
   ]
  }
 ],
 "metadata": {
  "kernelspec": {
   "display_name": "Python 3",
   "language": "python",
   "name": "python3"
  },
  "language_info": {
   "codemirror_mode": {
    "name": "ipython",
    "version": 3
   },
   "file_extension": ".py",
   "mimetype": "text/x-python",
   "name": "python",
   "nbconvert_exporter": "python",
   "pygments_lexer": "ipython3",
   "version": "3.6.5"
  }
 },
 "nbformat": 4,
 "nbformat_minor": 2
}
